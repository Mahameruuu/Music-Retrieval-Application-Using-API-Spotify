{
 "cells": [
  {
   "cell_type": "code",
   "execution_count": 1,
   "metadata": {},
   "outputs": [],
   "source": [
    "import streamlit as st\n",
    "import pandas as pd\n",
    "import numpy as np\n",
    "from sklearn.cluster import KMeans\n",
    "from sklearn.decomposition import PCA\n",
    "import plotly.express as px\n",
    "import base64\n",
    "from requests import post, get\n",
    "import json\n",
    "import csv\n",
    "from sklearn import preprocessing"
   ]
  },
  {
   "cell_type": "code",
   "execution_count": 2,
   "metadata": {},
   "outputs": [],
   "source": [
    "client_id = 'e7c7e1861d3342a0a51e039eba246925' ##ganti variabel dengan client_id milik anda\n",
    "client_secret = '91470fe8a4d446909fb1ffee1952dfc4' ##ganti variabel dengan client_secret milik anda\n",
    "playlistId = '6xIyqaVE6pGCXfdslfhhRE'\n",
    "\n",
    "## 37i9dQZF1DXbrUpGvoi3TS - 1(similar sad songs)\n",
    "## 1dtCMTYzAOzwKXqklxPJNS - 2(old songs, rock, rap)\n",
    "## 0IN7IWKmIfwlEysGyWUuRg - 3(mix of modern electronic, pop, and rock)\n",
    "\n",
    "dataset = []\n",
    "dataset2 = []\n",
    "dataset3 = []"
   ]
  },
  {
   "cell_type": "code",
   "execution_count": 3,
   "metadata": {},
   "outputs": [],
   "source": [
    "def getToken():\n",
    "    # gabungkan client_id dan client_secret\n",
    "    auth_string = client_id + ':' + client_secret\n",
    "\n",
    "    # encode ke base64\n",
    "    auth_b64 = base64.b64encode(auth_string.encode('utf-8'))\n",
    "\n",
    "    # url untuk mengambil token\n",
    "    url = 'https://accounts.spotify.com/api/token'\n",
    "\n",
    "    # header untuk mengambil token - sesuai dengan guide dari spotify\n",
    "    headers = {\n",
    "        'Authorization': 'Basic ' + auth_b64.decode('utf-8'),\n",
    "        'Content-Type': 'application/x-www-form-urlencoded'\n",
    "    }\n",
    "\n",
    "    # data untuk mengambil token - sesuai dengan guide dari spotify\n",
    "    data = {'grant_type': 'client_credentials'}\n",
    "\n",
    "    # kirim request POST ke spotify\n",
    "    result = post(url, headers=headers, data=data)\n",
    "\n",
    "    # parse response ke json\n",
    "    json_result = json.loads(result.content)\n",
    "    token = json_result['access_token']\n",
    "\n",
    "    # ambil token untuk akses API\n",
    "    return token\n",
    "\n",
    "## panggil fungsi getToken() dibawah ini"
   ]
  },
  {
   "cell_type": "code",
   "execution_count": 4,
   "metadata": {},
   "outputs": [],
   "source": [
    "## pengambilan token untuk otorisasi API\n",
    "def getAuthHeader(token):\n",
    "    return {'Authorization': 'Bearer ' + token}"
   ]
  },
  {
   "cell_type": "code",
   "execution_count": 5,
   "metadata": {},
   "outputs": [],
   "source": [
    "## pengambilan audio features dari track (lagu)\n",
    "def getAudioFeatures(token, trackId):\n",
    "    # endpoint untuk akses playlist\n",
    "    url = f'https://api.spotify.com/v1/audio-features/{trackId}'\n",
    "    # ambil token untuk otorisasi, gunakan sebagai header\n",
    "    headers = getAuthHeader(token)\n",
    "    result = get(url, headers=headers)  # kirim request GET ke spotify\n",
    "    json_result = json.loads(result.content)  # parse response ke json\n",
    "\n",
    "    # ambil data yang diperlukan dari response\n",
    "    audio_features_temp = [\n",
    "        json_result['danceability'],\n",
    "        json_result['energy'],\n",
    "        json_result['key'],\n",
    "        json_result['loudness'],\n",
    "        json_result['mode'],\n",
    "        json_result['speechiness'],\n",
    "        json_result['acousticness'],\n",
    "        json_result['instrumentalness'],\n",
    "        json_result['liveness'],\n",
    "        json_result['valence'],\n",
    "        json_result['tempo'],\n",
    "    ]\n",
    "    dataset2.append(audio_features_temp)"
   ]
  },
  {
   "cell_type": "code",
   "execution_count": 6,
   "metadata": {},
   "outputs": [
    {
     "name": "stdout",
     "output_type": "stream",
     "text": [
      "access token : BQDgrR74PSJVr9N3qqogqwS6_o53CXNqPRBvx9-sMyVmRkWAXlzCD6w7KOs4oc0hI5eRysLXHLCHdWmI_bHBNPSufDvJXAIQwO3BTJuZNQlHQjO_Cm0\n",
      "[['1RtlbxsPpDBsHHmGTb7ah2', b'Odd Eye', b'Dreamcatcher', 0, 184413, 2021, 0.537, 0.932, 6, -1.84, 0, 0.0869, 0.0487, 0, 0.197, 0.556, 160.058], ['4uuRFwokX9R4hnOWbreDga', b\"Don't Light My Fire\", b'Dreamcatcher', 32, 209280, 2021, 0.498, 0.862, 1, -3.966, 1, 0.0375, 0.000221, 0, 0.104, 0.329, 130.035], ['5F5W7RRODrX41Np6M2cK5i', b'Eclipse', b'Dreamcatcher', 35, 203613, 2021, 0.591, 0.962, 1, -2.575, 0, 0.0864, 0.096, 0, 0.12, 0.706, 97.493], ['2u7p3Bzkv8h0Yx7w7R370n', b'BOCA', b'Dreamcatcher', 0, 189546, 2020, 0.684, 0.948, 8, -1.713, 0, 0.0576, 0.00676, 4.7e-05, 0.125, 0.643, 99.981], ['2GOVhdRm7EqSk8k1STWv2x', b'\\xeb\\xb0\\x94\\xeb\\x9e\\x8c\\xec\\x95\\x84 (Wind Blows)', b'Dreamcatcher', 0, 197493, 2021, 0.514, 0.963, 4, -2.931, 0, 0.114, 0.00234, 0, 0.526, 0.591, 164.987], ['6mIjJONoUMvGPT9Kzrab3L', b'LA DI DA', b'EVERGLOW', 58, 210893, 2020, 0.477, 0.85, 3, -1.486, 0, 0.0911, 0.00108, 0, 0.0675, 0.601, 163.845], ['3dbLT62Cvs46Ju7a8gpr36', b'Savage', b'aespa', 69, 238143, 2021, 0.727, 0.879, 9, -1.167, 1, 0.129, 0.124, 1.17e-05, 0.244, 0.671, 146.959], ['44zfpg3ndtGESsgpTbWeyE', b'O.O', b'NMIXX', 0, 172936, 2022, 0.389, 0.77, 11, -3.92, 0, 0.297, 0.0368, 3.79e-06, 0.0598, 0.295, 200.263], ['2hJS7BdEaH9Jo8MeJujsHT', b'HELICOPTER', b'CLC', 51, 225720, 2020, 0.666, 0.908, 5, -2.819, 0, 0.056, 0.0323, 0, 0.383, 0.655, 155.048], ['7mL8icvGMosH3ypQRf6UzY', b'Wings', b'PIXY', 0, 213933, 2021, 0.603, 0.93, 4, -1.91, 0, 0.227, 0.0956, 6.53e-06, 0.0428, 0.47, 131.877], ['0qr3qIT7OrhzT33sW1syLI', b'memeM', b'PURPLE KISS', 16, 172066, 2022, 0.658, 0.935, 11, -1.458, 1, 0.129, 0.139, 1.57e-06, 0.0287, 0.803, 150.008], ['38dgtl73zn8VYh7VOCvs69', b'PIRI', b'Dreamcatcher', 0, 206819, 2019, 0.506, 0.869, 2, -2.21, 0, 0.0597, 0.194, 0, 0.572, 0.492, 170.034], ['4qMt92hgQlJMyJjdI0Nw2h', b'GUNSHOT', b'KARD', 49, 181480, 2020, 0.582, 0.77, 1, -3.52, 1, 0.0406, 0.00253, 0, 0.198, 0.348, 135.008], ['0Vu5tjvXZX3qtzRiezxLi1', b'Pirate', b'EVERGLOW', 52, 210013, 2021, 0.683, 0.685, 7, -5.381, 1, 0.0425, 0.00195, 0, 0.0582, 0.381, 129.993], ['4M5HZnLcoHBllOB5OF6UKE', b'YOU AND I', b'Dreamcatcher', 5, 195015, 2018, 0.639, 0.83, 11, -2.639, 0, 0.0739, 0.0864, 0, 0.239, 0.512, 97.01], ['3p6tX23sAlkq2yAQ3Btq2B', b'Fantasy', b'PinkFantasy', 28, 204425, 2019, 0.531, 0.875, 2, -3.856, 0, 0.0539, 0.00404, 6.24e-06, 0.296, 0.32, 94.996], ['0fb1NtIwTxVERtEsVI85Hm', b'My Heart Skip a Beat', b'PURPLE KISS', 9, 198106, 2021, 0.742, 0.883, 4, -3.373, 0, 0.0741, 0.0283, 0, 0.254, 0.82, 115.95], ['0rNLaGUleZ91DXMxmZNq5v', b\"Fireworks (I'm The One)\", b'ATEEZ', 56, 209574, 2021, 0.724, 0.904, 0, -3.815, 1, 0.0872, 0.0419, 4.79e-06, 0.163, 0.728, 130.036], ['7ecbsiAQ6PNdiAq0hplVZo', b'Blessed-Cursed', b'ENHYPEN', 62, 170805, 2022, 0.604, 0.886, 4, -3.523, 0, 0.061, 0.0925, 0, 0.596, 0.401, 127.098], ['2bnJ8IxZnVc2YmUaX0sZap', b'JIKJIN', b'TREASURE', 60, 184117, 2022, 0.819, 0.55, 0, -6.57, 1, 0.0434, 0.0367, 0, 0.0945, 0.573, 130.077], ['6w4nlTYyrzB5kYhiABzBsQ', b'Bring it on', b'ONEUS', 36, 204493, 2022, 0.688, 0.921, 9, -2.132, 0, 0.158, 0.0669, 0, 0.241, 0.765, 150.133], ['7eVu7FI02cTicLEgVtUvwF', b'ZOO', b'TAEYONG', 58, 177413, 2021, 0.823, 0.923, 9, -2.875, 1, 0.158, 0.127, 0, 0.0571, 0.629, 122.922], ['3Yp61j6axuQe4nxYWvbOXy', b'Frost', b'TOMORROW X TOGETHER', 51, 194771, 2021, 0.776, 0.746, 5, -5.528, 0, 0.0532, 0.00551, 0, 0.382, 0.581, 96.004], ['4rOODw637hsmsq0uzT0DN3', b'Advice', b'TAEMIN', 56, 191640, 2021, 0.659, 0.821, 9, -2.215, 0, 0.0468, 0.406, 0, 0.114, 0.353, 161.983], ['59jcTRUaGUbKAjjmguiINC', b'Revolution', b'AleXa', 32, 189693, 2020, 0.69, 0.871, 5, -3.527, 0, 0.0434, 0.00363, 0, 0.208, 0.241, 109.95], ['46WaBBaEHzgbN88Ew0nh50', b'MAGO', b'GFRIEND', 62, 199133, 2020, 0.621, 0.821, 6, -3.662, 0, 0.0364, 0.00548, 0.000578, 0.142, 0.646, 120.062], ['0N1zTlFxux9l7abfegDTIp', b'Bad Girl', b'WOOAH', 40, 206437, 2020, 0.913, 0.816, 0, -2.498, 1, 0.0584, 0.0231, 0, 0.0113, 0.72, 124.952], ['3qvfE7DGsIlkWzKMOS4gAm', b'\\xeb\\x8d\\xb0\\xec\\x9e\\x90\\xeb\\xb6\\x80 (Deja Vu)', b'Dreamcatcher', 0, 224760, 2019, 0.482, 0.675, 5, -5.296, 0, 0.0653, 0.0631, 0, 0.177, 0.532, 179.69], ['0ufYP4HLjzVSLUsGKCIQJH', b'BEcause', b'Dreamcatcher', 0, 191946, 2021, 0.551, 0.94, 4, -2.768, 0, 0.0871, 0.0182, 0, 0.316, 0.458, 170.018], ['5awNIWVrh2ISfvPd5IUZNh', b'PTT (Paint The Town)', b'LOONA', 54, 201120, 2021, 0.781, 0.814, 8, -2.437, 1, 0.1, 0.0735, 1.92e-05, 0.0565, 0.546, 124.028], ['73ND9EgLxCG4abSmc4z9ww', b'GHOST', b'DreamNote', 32, 212400, 2021, 0.614, 0.898, 7, -1.801, 0, 0.0718, 0.0219, 0, 0.176, 0.632, 97.017], ['0eYUPGR0tB6pP5YvE3zXaU', b'ICONS', b'HOT ISSUE', 39, 188880, 2021, 0.642, 0.91, 5, -2.05, 0, 0.0341, 0.00573, 4.11e-06, 0.516, 0.517, 100.01], ['50Vcv9VMLMujdoax9yqksy', b'Let Me Know', b'PIXY', 27, 222373, 2021, 0.559, 0.972, 4, -1.413, 0, 0.109, 0.0769, 0, 0.718, 0.566, 155.111], ['4WCg4g0lMTZxyFC19W0DHF', b'STALKER', b'3YE', 24, 228000, 2021, 0.77, 0.919, 1, -2.298, 0, 0.0709, 0.0321, 0, 0.601, 0.799, 119.97], ['3wiSbXaRcX0NXC6CQIaLYO', b'Loca', b'TRI.BE', 31, 176066, 2021, 0.776, 0.848, 1, -1.964, 1, 0.0414, 0.012, 1.51e-05, 0.0563, 0.529, 154.983], ['00tilTOz5LIyOPGK0L1X1s', b'Dunga Dunga', b'HOT ISSUE', 18, 192720, 2021, 0.731, 0.896, 11, -3.213, 0, 0.0739, 0.0787, 3.67e-05, 0.115, 0.396, 92.015], ['3usVtuGqnWOy2zp8CMO0PB', b'Oh MAMA', b'Bling Bling', 0, 194533, 2021, 0.703, 0.933, 11, -1.515, 0, 0.0505, 0.00424, 0.00157, 0.333, 0.61, 110.014], ['5r5DHrJRw6q06N2aeHNczb', b'GRATATA', b'HOT ISSUE', 26, 192520, 2021, 0.78, 0.892, 11, -1.713, 1, 0.0456, 0.0634, 1.51e-06, 0.0468, 0.708, 124.999], ['1EEj03tWxVgfV8t0NfVexY', b'SAHARA', b'Dreamcatcher', 0, 190946, 2020, 0.632, 0.808, 11, -4.488, 0, 0.0556, 0.0451, 1.86e-06, 0.0834, 0.226, 89.965], ['021L6LlBBtr34BmFRHd9Ic', b'FIRST', b'EVERGLOW', 52, 212280, 2021, 0.611, 0.864, 6, -2.345, 0, 0.0654, 0.00852, 1.68e-06, 0.136, 0.455, 152.02], ['2ffVhWaUuu5IRaoogJOGFz', b'Addicted', b'PIXY', 34, 197733, 2021, 0.463, 0.925, 7, -2.082, 0, 0.419, 0.183, 0, 0.112, 0.516, 167.515], ['7GbUWl6qLW1gdngbEV2WDJ', b'Monster', b'EXO', 59, 221341, 2016, 0.618, 0.76, 6, -4.312, 1, 0.0596, 0.0066, 0, 0.127, 0.541, 150.0], ['1ADlTU9mFc3oDdD9Vla2Yw', b'Tiger Inside', b'SuperM', 54, 209186, 2020, 0.554, 0.932, 0, -1.343, 1, 0.266, 0.303, 0, 0.11, 0.543, 170.21], ['3wyrhwPpV8uhMMEms4vG3X', b'Not Today', b'BTS', 62, 231859, 2017, 0.593, 0.945, 8, -3.408, 1, 0.126, 0.00174, 0, 0.923, 0.674, 110.023], ['6k67RdkVjTZj79c1cRz7IQ', b'WONDERLAND', b'ATEEZ', 59, 199013, 2019, 0.571, 0.964, 4, -1.949, 0, 0.124, 0.0503, 0, 0.356, 0.519, 129.997], ['4pspYVQGFHLPEFgQPD1J7e', b'WANNABE', b'ITZY', 50, 191242, 2020, 0.809, 0.911, 6, -4.41, 0, 0.0617, 0.00795, 0.000179, 0.181, 0.64, 122.035], ['5WrEilrRI5cIW0DxMvQYPZ', b'Jopping', b'SuperM', 54, 251293, 2019, 0.74, 0.835, 10, -3.425, 0, 0.0839, 0.0139, 0, 0.857, 0.535, 123.024], ['18uXUUPFfj6XF4hsmp65gB', b'BOY', b'TREASURE', 51, 196666, 2021, 0.753, 0.76, 6, -6.666, 0, 0.0482, 0.0522, 0, 0.379, 0.69, 110.01], ['2pSOUHBQXkN3fS2TAJHhfR', b'Hobgoblin', b'CLC', 46, 210478, 2017, 0.621, 0.873, 11, -2.888, 0, 0.103, 0.0194, 0, 0.488, 0.401, 169.91], ['6O734u9qnz6B4gWMyszWhi', b'Silver Spoon', b'BTS', 62, 233160, 2015, 0.65, 0.879, 9, -2.886, 1, 0.073, 0.00104, 0, 0.0483, 0.536, 166.895], ['7FxshQAsTWmogWU959hz3T', b'Scream', b'Dreamcatcher', 0, 204293, 2020, 0.703, 0.94, 4, -2.253, 0, 0.161, 0.0311, 0, 0.331, 0.308, 137.901], ['5zLCLAce7F5J2OfE4S8yAC', b'NAVILLERA', b'WJSN', 28, 247906, 2022, 0.591, 0.864, 2, -3.405, 1, 0.0773, 0.011, 0, 0.0564, 0.254, 115.059], ['3kwr2hlIDwmwVAjKC7zshR', b'Ven para', b'Weeekly', 34, 194693, 2022, 0.73, 0.819, 1, -2.845, 1, 0.0365, 0.00226, 3.52e-05, 0.0586, 0.287, 99.996], ['4VJtWynaEkc0UOMSbXOnWg', b'Solar', b'Weeekly', 22, 202920, 2022, 0.764, 0.835, 7, -3.922, 1, 0.0986, 0.288, 0.000146, 0.0932, 0.604, 128.062], ['27S8iOXD7Z58yvJtyk2S9j', b'No More Dream', b'BTS', 51, 222066, 2022, 0.438, 0.864, 2, -5.185, 1, 0.47, 0.0118, 1.66e-06, 0.431, 0.594, 167.898], ['7G6WuVZuTbF6JcnA9wOvsD', b'Secret Story of the Swan', b'IZ*ONE', 59, 192333, 2020, 0.703, 0.941, 7, -0.995, 0, 0.0808, 0.131, 0, 0.319, 0.758, 102.969], ['1ehags7lQMM1qX94VJkoaf', b'Not Shy', b'ITZY', 47, 177728, 2020, 0.776, 0.911, 2, -3.08, 0, 0.131, 0.155, 2.59e-06, 0.268, 0.56, 101.027], ['2zrhoHlFKxFTRF5aMyxMoQ', b'Next Level', b'aespa', 68, 221573, 2021, 0.82, 0.852, 11, -2.567, 0, 0.166, 0.488, 5.94e-06, 0.0907, 0.82, 109.036], ['1xIAcP1NLPMpZaDfXTiWMs', b'Breaking Out', b'Dreamcatcher', 33, 199120, 2019, 0.741, 0.747, 10, -4.835, 0, 0.0418, 0.0241, 3.09e-06, 0.111, 0.421, 110.024], ['5zhuhNkILzHm585h104JlI', b'GOOD NIGHT', b'Dreamcatcher', 5, 174743, 2017, 0.456, 0.957, 5, -1.093, 0, 0.402, 0.112, 0, 0.101, 0.535, 196.067], ['0DeQ1opuBngW7CapWLfa2q', b'Got That Boom', b'SECRET NUMBER', 38, 205599, 2020, 0.729, 0.874, 6, -1.711, 0, 0.0387, 0.0184, 0.000214, 0.0597, 0.758, 122.975], ['1o71Y1jEwhrIhqUXVXm2Ba', b'DROP', b'U-KNOW', 18, 256333, 2017, 0.759, 0.944, 6, -1.216, 0, 0.0815, 0.0269, 0.000405, 0.158, 0.457, 139.993], ['01380RE6UfsPSdiUIwrCoH', b'MIC Drop (Steve Aoki Remix) (Full Length Edition)', b'BTS', 63, 307675, 2018, 0.606, 0.85, 11, -3.952, 1, 0.183, 0.0114, 1.01e-06, 0.206, 0.542, 170.01], ['54azQnjuDYDFfImXimGFsA', b'IDOL', b'BTS', 54, 260233, 2018, 0.708, 0.857, 6, -3.394, 0, 0.0827, 0.00219, 0, 0.103, 0.449, 126.051], ['0EMD15EVNwDlgGH2CH6ZEL', b\"Ridin'\", b'NCT DREAM', 50, 201773, 2020, 0.549, 0.903, 1, -1.483, 0, 0.045, 0.178, 0, 0.0682, 0.513, 150.009], ['0SJQTuNZ52VkxfGHJJItBs', b'Sit Down!', b'NCT 127', 39, 200200, 2020, 0.819, 0.812, 1, -4.204, 1, 0.11, 0.0603, 2e-05, 0.043, 0.719, 127.981], ['1FR5w3JYKIgPQ4sf2ARVCn', b'What I Said', b'VICTON', 42, 206386, 2021, 0.636, 0.912, 6, -2.363, 0, 0.102, 0.0208, 0, 0.0631, 0.76, 142.1], ['7MmR8iBd5RDdmWVMvhaQiB', b'Breakthrough (Full Version)', b'P1Harmony', 36, 174053, 2020, 0.598, 0.855, 5, -2.348, 0, 0.0606, 0.184, 0, 0.0606, 0.638, 82.028], ['4h1V7NLdMV1JpuaJbJAA9t', b'Bad Alive - English Version', b'WayV', 41, 229266, 2020, 0.667, 0.84, 3, -3.363, 0, 0.0303, 0.0017, 0.000175, 0.332, 0.575, 142.014], ['4aHqVuUrfYMPro2bqn5Fse', b'Turn Back Time', b'WayV', 44, 218680, 2020, 0.615, 0.889, 11, -3.698, 1, 0.0427, 0.00354, 0, 0.159, 0.532, 134.958], ['3dT0qsBg8B8bEOtYzhjYUA', b'Drink It', b'THE BOYZ', 0, 206946, 2021, 0.71, 0.942, 7, -1.605, 0, 0.106, 0.0934, 0, 0.296, 0.591, 123.974], ['50DL5njQWzcOzJdS2OR8cP', b'Dangerous', b\"E'LAST\", 0, 202093, 2020, 0.74, 0.83, 2, -3.141, 1, 0.0504, 0.0486, 0, 0.151, 0.172, 128.058], ['3FquIs9FzQdllkjGsrggOW', b'Bomb - Korean Version', b'AleXa', 6, 203253, 2019, 0.711, 0.862, 3, -2.714, 0, 0.0556, 0.0135, 0, 0.355, 0.705, 132.007], ['3O3biYocjQTYZlyBwBDM84', b'VILLAIN', b'AleXa', 24, 185813, 2020, 0.665, 0.801, 9, -2.647, 1, 0.12, 0.0918, 0, 0.435, 0.549, 139.745], ['2fyhv2ThM2PDqlc8HVs32e', b'MAISON', b'Dreamcatcher', 0, 185733, 2022, 0.686, 0.955, 3, -2.297, 0, 0.159, 0.129, 0, 0.0782, 0.496, 120.007], ['71OnJpHKkV7WWghsYOVUae', b'Endless Night', b'Dreamcatcher', 26, 198000, 2020, 0.578, 0.932, 11, -2.451, 0, 0.218, 0.00293, 8.39e-05, 0.166, 0.48, 165.009], ['1QvO3e8hAARNbCQUZ3prPL', b'Diamond', b'Dreamcatcher', 0, 201598, 2019, 0.726, 0.821, 7, -3.5, 1, 0.114, 0.0281, 0, 0.479, 0.465, 109.023], ['0hPncZYbaySDE5UoZxPTx4', b'Sugar Free', b'T-ARA', 0, 235628, 2014, 0.67, 0.874, 2, -3.938, 1, 0.0442, 0.00366, 0.000747, 0.117, 0.699, 127.975], ['4YmjQsMNLq799qtK1QAWBm', b'Tension', b'Dreamcatcher', 0, 191213, 2020, 0.435, 0.933, 8, -1.786, 1, 0.115, 0.0815, 0, 0.329, 0.415, 200.11], ['0Q5VnK2DYzRyfqQRJuUtvi', b'LOVE DIVE', b'IVE', 70, 177186, 2022, 0.703, 0.709, 1, -4.169, 0, 0.0433, 0.00379, 5.43e-05, 0.333, 0.538, 117.941], ['6Jt4t4qNmD1v7SB8GPz3Zw', b'OMEGA X', b'OMEGA X', 34, 214666, 2021, 0.702, 0.918, 9, -2.181, 1, 0.167, 0.141, 0, 0.564, 0.712, 127.988], ['7xbF0zvvjJ4oT4HvcYi85k', b'RE=LOAD', b'JUST B', 29, 198333, 2022, 0.57, 0.962, 10, -1.998, 0, 0.124, 0.083, 0, 0.315, 0.858, 155.02], ['3NWxwoXlvgtTd3fNHuX2Vv', b'Anthem of Teen Spirit', b'EPEX', 34, 182680, 2022, 0.631, 0.815, 0, -2.764, 0, 0.0918, 0.0175, 0, 0.193, 0.831, 160.027], ['6CaITLuo1Ojx3SU8QtklEd', b'Scar', b'THE BOYZ', 32, 200946, 2020, 0.676, 0.861, 8, -3.051, 0, 0.0481, 0.0541, 1.04e-06, 0.113, 0.401, 142.03], ['5BVe5BDEa3JGJnA9IHuBYg', b'JAWS', b'BAE173', 27, 208986, 2022, 0.543, 0.944, 1, -1.766, 1, 0.0661, 0.00812, 0, 0.796, 0.325, 159.893], ['1NP5DSaxtvH6iAIOpXHdf2', b'Hit The Bass', b'BLITZERS', 26, 210666, 2022, 0.514, 0.937, 7, -2.846, 1, 0.157, 0.00386, 4.82e-06, 0.21, 0.46, 170.111], ['3jATBjBJAWLVkAB2gCjrqE', b'BOOM', b'LEE MINHYUK (HUTA)', 32, 201080, 2022, 0.713, 0.875, 1, -3.323, 1, 0.0638, 0.0271, 0, 0.0572, 0.432, 96.068], ['59WDxA3UxKvJDIJcK6dVZv', b'Gasoline', b'KEY', 44, 191906, 2022, 0.605, 0.855, 7, -2.631, 0, 0.251, 0.00467, 0, 0.336, 0.662, 150.03], ['4s3uqfuAjZuGW3NPfLSNpP', b'WANTED', b'MONSTA X', 21, 212906, 2021, 0.66, 0.908, 9, -3.09, 0, 0.0634, 0.104, 0, 0.309, 0.583, 104.979], ['0vENqeSJm8NhZJmTOkroJi', b'Golden Goose', b'A.C.E', 0, 187091, 2020, 0.598, 0.916, 1, -3.122, 1, 0.123, 0.196, 0, 0.624, 0.684, 155.032], ['0ocXXOaJuoNy0GZecVGmHt', b'Tears Of Chaos', b\"E'LAST\", 0, 239573, 2020, 0.575, 0.818, 6, -2.582, 0, 0.0503, 0.132, 0, 0.0914, 0.271, 77.01], ['6j00mQpXjdXuovqU9owUDa', b'DaSH', b'BAE173', 22, 209733, 2022, 0.769, 0.875, 7, -3.357, 1, 0.0825, 0.0242, 0, 0.0867, 0.403, 99.067], ['2UtgHEn85322ynZ9j2po4l', b'TICK TOCK', b'JUST B', 25, 190480, 2021, 0.73, 0.81, 1, -3.739, 1, 0.197, 0.00681, 0, 0.422, 0.696, 129.914], ['7ykZspJW8uY2Lx26zO3eBt', b'No More X', b'TO1', 22, 178293, 2021, 0.76, 0.877, 10, -3.68, 0, 0.0534, 0.0102, 0, 0.255, 0.456, 110.045], ['3iJwzIT5DlDQlCMJcClBF2', b'VERTIGO', b'DRIPPIN', 0, 202120, 2021, 0.608, 0.863, 0, -3.292, 1, 0.108, 0.11, 0, 0.118, 0.63, 150.054], ['7n2FZQsaLb7ZRfRPfEeIvr', b'ELEVEN', b'IVE', 67, 178453, 2021, 0.828, 0.731, 9, -3.033, 1, 0.111, 0.0617, 0, 0.048, 0.587, 119.978], ['3LCwQoTrdQgHsGJE5gGVqx', b'Step Back', b'GOT the beat', 60, 228613, 2022, 0.636, 0.81, 1, -2.035, 1, 0.101, 0.0205, 1.04e-05, 0.596, 0.611, 161.897], ['7010GzT5bbMuQ4fWTMbpKz', b'Bada Boom (With MISMOLLY, TURNS)', b'Solar', 36, 176426, 2022, 0.694, 0.941, 6, -1.64, 0, 0.202, 0.191, 0, 0.246, 0.714, 100.201], ['64QflcxeXxlZI6jSNUS6P6', b'NANRINA', b'JEON SOYEON', 24, 163733, 2022, 0.79, 0.717, 2, -4.945, 1, 0.0885, 0.156, 0, 0.118, 0.545, 115.021], ['2UQLDRnG7IwlXrdmYTA6sv', b'flipp!ng a coin', b'Billlie', 35, 195053, 2021, 0.751, 0.887, 10, -3.644, 0, 0.176, 0.0297, 0.000111, 0.122, 0.786, 124.96]]\n"
     ]
    }
   ],
   "source": [
    "# pengambilan track (lagu) dari playlist\n",
    "def getPlaylistItems(token, playlistId):\n",
    "    # endpoint untuk akses playlist\n",
    "    url = f'https://api.spotify.com/v1/playlists/{playlistId}/tracks'\n",
    "    limit = '&limit=100'  # batas maksimal track yang diambil\n",
    "    market = '?market=ID'  # negara yang tempat aplikasi diakses\n",
    "    # format data dari track yang diambil\n",
    "    fields = '&fields=items%28track%28id%2Cname%2Cartists%2Cpopularity%2C+duration_ms%2C+album%28release_date%29%29%29'\n",
    "    url = url+market+fields+limit  # gabungkan semua parameter\n",
    "    # ambil token untuk otorisasi, gunakan sebagai header\n",
    "    headers = getAuthHeader(token)\n",
    "    result = get(url, headers=headers)  # kirim request GET ke spotify\n",
    "    json_result = json.loads(result.content)  # parse response ke json\n",
    "    # print(json_result)\n",
    "\n",
    "    # ambil data yang diperlukan dari response\n",
    "    for i in range(len(json_result['items'])):\n",
    "        playlist_items_temp = []\n",
    "        playlist_items_temp.append(json_result['items'][i]['track']['id'])\n",
    "        playlist_items_temp.append(\n",
    "            json_result['items'][i]['track']['name'].encode('utf-8'))\n",
    "        playlist_items_temp.append(\n",
    "            json_result['items'][i]['track']['artists'][0]['name'].encode('utf-8'))\n",
    "        playlist_items_temp.append(\n",
    "            json_result['items'][i]['track']['popularity'])\n",
    "        playlist_items_temp.append(\n",
    "            json_result['items'][i]['track']['duration_ms'])\n",
    "        playlist_items_temp.append(\n",
    "            int(json_result['items'][i]['track']['album']['release_date'][0:4]))\n",
    "        dataset.append(playlist_items_temp)\n",
    "\n",
    "    # ambil audio features dari semua track di dalam playlist\n",
    "    for i in range(len(dataset)):\n",
    "        getAudioFeatures(token, dataset[i][0])\n",
    "\n",
    "    # gabungkan dataset dan dataset2\n",
    "    for i in range(len(dataset)):\n",
    "        dataset3.append(dataset[i]+dataset2[i])\n",
    "\n",
    "    print(dataset3)\n",
    "    # convert dataset3 into csv\n",
    "    with open('dataset.csv', 'w', newline='') as file:\n",
    "        writer = csv.writer(file)\n",
    "        writer.writerow([\"id\", \"name\", \"artist\", \"popularity\", \"duration_ms\", \"year\", \"danceability\", \"energy\", \"key\", \"loudness\", \"mode\",\n",
    "                         \"speechiness\", \"acousticness\", \"instrumentalness\", \"liveness\", \"valence\", \"tempo\"])\n",
    "        writer.writerows(dataset3)\n",
    "\n",
    "token = getToken()\n",
    "print('access token : '+token)\n",
    "getPlaylistItems(token, playlistId)"
   ]
  },
  {
   "cell_type": "code",
   "execution_count": 7,
   "metadata": {},
   "outputs": [
    {
     "data": {
      "text/html": [
       "<div>\n",
       "<style scoped>\n",
       "    .dataframe tbody tr th:only-of-type {\n",
       "        vertical-align: middle;\n",
       "    }\n",
       "\n",
       "    .dataframe tbody tr th {\n",
       "        vertical-align: top;\n",
       "    }\n",
       "\n",
       "    .dataframe thead th {\n",
       "        text-align: right;\n",
       "    }\n",
       "</style>\n",
       "<table border=\"1\" class=\"dataframe\">\n",
       "  <thead>\n",
       "    <tr style=\"text-align: right;\">\n",
       "      <th></th>\n",
       "      <th>id</th>\n",
       "      <th>name</th>\n",
       "      <th>artist</th>\n",
       "      <th>popularity</th>\n",
       "      <th>duration_ms</th>\n",
       "      <th>year</th>\n",
       "      <th>danceability</th>\n",
       "      <th>energy</th>\n",
       "      <th>key</th>\n",
       "      <th>loudness</th>\n",
       "      <th>mode</th>\n",
       "      <th>speechiness</th>\n",
       "      <th>acousticness</th>\n",
       "      <th>instrumentalness</th>\n",
       "      <th>liveness</th>\n",
       "      <th>valence</th>\n",
       "      <th>tempo</th>\n",
       "    </tr>\n",
       "  </thead>\n",
       "  <tbody>\n",
       "    <tr>\n",
       "      <th>0</th>\n",
       "      <td>1RtlbxsPpDBsHHmGTb7ah2</td>\n",
       "      <td>b'Odd Eye'</td>\n",
       "      <td>b'Dreamcatcher'</td>\n",
       "      <td>0</td>\n",
       "      <td>184413</td>\n",
       "      <td>2021</td>\n",
       "      <td>0.537</td>\n",
       "      <td>0.932</td>\n",
       "      <td>6</td>\n",
       "      <td>-1.840</td>\n",
       "      <td>0</td>\n",
       "      <td>0.0869</td>\n",
       "      <td>0.048700</td>\n",
       "      <td>0.000000</td>\n",
       "      <td>0.197</td>\n",
       "      <td>0.556</td>\n",
       "      <td>160.058</td>\n",
       "    </tr>\n",
       "    <tr>\n",
       "      <th>1</th>\n",
       "      <td>4uuRFwokX9R4hnOWbreDga</td>\n",
       "      <td>b\"Don't Light My Fire\"</td>\n",
       "      <td>b'Dreamcatcher'</td>\n",
       "      <td>32</td>\n",
       "      <td>209280</td>\n",
       "      <td>2021</td>\n",
       "      <td>0.498</td>\n",
       "      <td>0.862</td>\n",
       "      <td>1</td>\n",
       "      <td>-3.966</td>\n",
       "      <td>1</td>\n",
       "      <td>0.0375</td>\n",
       "      <td>0.000221</td>\n",
       "      <td>0.000000</td>\n",
       "      <td>0.104</td>\n",
       "      <td>0.329</td>\n",
       "      <td>130.035</td>\n",
       "    </tr>\n",
       "    <tr>\n",
       "      <th>2</th>\n",
       "      <td>5F5W7RRODrX41Np6M2cK5i</td>\n",
       "      <td>b'Eclipse'</td>\n",
       "      <td>b'Dreamcatcher'</td>\n",
       "      <td>35</td>\n",
       "      <td>203613</td>\n",
       "      <td>2021</td>\n",
       "      <td>0.591</td>\n",
       "      <td>0.962</td>\n",
       "      <td>1</td>\n",
       "      <td>-2.575</td>\n",
       "      <td>0</td>\n",
       "      <td>0.0864</td>\n",
       "      <td>0.096000</td>\n",
       "      <td>0.000000</td>\n",
       "      <td>0.120</td>\n",
       "      <td>0.706</td>\n",
       "      <td>97.493</td>\n",
       "    </tr>\n",
       "    <tr>\n",
       "      <th>3</th>\n",
       "      <td>2u7p3Bzkv8h0Yx7w7R370n</td>\n",
       "      <td>b'BOCA'</td>\n",
       "      <td>b'Dreamcatcher'</td>\n",
       "      <td>0</td>\n",
       "      <td>189546</td>\n",
       "      <td>2020</td>\n",
       "      <td>0.684</td>\n",
       "      <td>0.948</td>\n",
       "      <td>8</td>\n",
       "      <td>-1.713</td>\n",
       "      <td>0</td>\n",
       "      <td>0.0576</td>\n",
       "      <td>0.006760</td>\n",
       "      <td>0.000047</td>\n",
       "      <td>0.125</td>\n",
       "      <td>0.643</td>\n",
       "      <td>99.981</td>\n",
       "    </tr>\n",
       "    <tr>\n",
       "      <th>4</th>\n",
       "      <td>2GOVhdRm7EqSk8k1STWv2x</td>\n",
       "      <td>b'\\xeb\\xb0\\x94\\xeb\\x9e\\x8c\\xec\\x95\\x84 (Wind B...</td>\n",
       "      <td>b'Dreamcatcher'</td>\n",
       "      <td>0</td>\n",
       "      <td>197493</td>\n",
       "      <td>2021</td>\n",
       "      <td>0.514</td>\n",
       "      <td>0.963</td>\n",
       "      <td>4</td>\n",
       "      <td>-2.931</td>\n",
       "      <td>0</td>\n",
       "      <td>0.1140</td>\n",
       "      <td>0.002340</td>\n",
       "      <td>0.000000</td>\n",
       "      <td>0.526</td>\n",
       "      <td>0.591</td>\n",
       "      <td>164.987</td>\n",
       "    </tr>\n",
       "  </tbody>\n",
       "</table>\n",
       "</div>"
      ],
      "text/plain": [
       "                       id                                               name  \\\n",
       "0  1RtlbxsPpDBsHHmGTb7ah2                                         b'Odd Eye'   \n",
       "1  4uuRFwokX9R4hnOWbreDga                             b\"Don't Light My Fire\"   \n",
       "2  5F5W7RRODrX41Np6M2cK5i                                         b'Eclipse'   \n",
       "3  2u7p3Bzkv8h0Yx7w7R370n                                            b'BOCA'   \n",
       "4  2GOVhdRm7EqSk8k1STWv2x  b'\\xeb\\xb0\\x94\\xeb\\x9e\\x8c\\xec\\x95\\x84 (Wind B...   \n",
       "\n",
       "            artist  popularity  duration_ms  year  danceability  energy  key  \\\n",
       "0  b'Dreamcatcher'           0       184413  2021         0.537   0.932    6   \n",
       "1  b'Dreamcatcher'          32       209280  2021         0.498   0.862    1   \n",
       "2  b'Dreamcatcher'          35       203613  2021         0.591   0.962    1   \n",
       "3  b'Dreamcatcher'           0       189546  2020         0.684   0.948    8   \n",
       "4  b'Dreamcatcher'           0       197493  2021         0.514   0.963    4   \n",
       "\n",
       "   loudness  mode  speechiness  acousticness  instrumentalness  liveness  \\\n",
       "0    -1.840     0       0.0869      0.048700          0.000000     0.197   \n",
       "1    -3.966     1       0.0375      0.000221          0.000000     0.104   \n",
       "2    -2.575     0       0.0864      0.096000          0.000000     0.120   \n",
       "3    -1.713     0       0.0576      0.006760          0.000047     0.125   \n",
       "4    -2.931     0       0.1140      0.002340          0.000000     0.526   \n",
       "\n",
       "   valence    tempo  \n",
       "0    0.556  160.058  \n",
       "1    0.329  130.035  \n",
       "2    0.706   97.493  \n",
       "3    0.643   99.981  \n",
       "4    0.591  164.987  "
      ]
     },
     "execution_count": 7,
     "metadata": {},
     "output_type": "execute_result"
    }
   ],
   "source": [
    "import pandas as pd\n",
    "import numpy as np\n",
    "\n",
    "from sklearn.cluster import KMeans\n",
    "from sklearn.decomposition import PCA\n",
    "\n",
    "import plotly.express as px \n",
    "\n",
    "## muat dataset\n",
    "data = pd.read_csv('dataset.csv')\n",
    "data.head()"
   ]
  },
  {
   "cell_type": "code",
   "execution_count": 8,
   "metadata": {},
   "outputs": [
    {
     "data": {
      "text/html": [
       "<div>\n",
       "<style scoped>\n",
       "    .dataframe tbody tr th:only-of-type {\n",
       "        vertical-align: middle;\n",
       "    }\n",
       "\n",
       "    .dataframe tbody tr th {\n",
       "        vertical-align: top;\n",
       "    }\n",
       "\n",
       "    .dataframe thead th {\n",
       "        text-align: right;\n",
       "    }\n",
       "</style>\n",
       "<table border=\"1\" class=\"dataframe\">\n",
       "  <thead>\n",
       "    <tr style=\"text-align: right;\">\n",
       "      <th></th>\n",
       "      <th>id</th>\n",
       "      <th>name</th>\n",
       "      <th>artist</th>\n",
       "      <th>popularity</th>\n",
       "      <th>duration_ms</th>\n",
       "      <th>year</th>\n",
       "      <th>danceability</th>\n",
       "      <th>energy</th>\n",
       "      <th>key</th>\n",
       "      <th>loudness</th>\n",
       "      <th>mode</th>\n",
       "      <th>speechiness</th>\n",
       "      <th>acousticness</th>\n",
       "      <th>instrumentalness</th>\n",
       "      <th>liveness</th>\n",
       "      <th>valence</th>\n",
       "      <th>tempo</th>\n",
       "    </tr>\n",
       "  </thead>\n",
       "  <tbody>\n",
       "    <tr>\n",
       "      <th>0</th>\n",
       "      <td>1RtlbxsPpDBsHHmGTb7ah2</td>\n",
       "      <td>Odd Eye</td>\n",
       "      <td>Dreamcatcher</td>\n",
       "      <td>0</td>\n",
       "      <td>184413</td>\n",
       "      <td>2021</td>\n",
       "      <td>0.537</td>\n",
       "      <td>0.932</td>\n",
       "      <td>6</td>\n",
       "      <td>-1.840</td>\n",
       "      <td>0</td>\n",
       "      <td>0.0869</td>\n",
       "      <td>0.048700</td>\n",
       "      <td>0.000000</td>\n",
       "      <td>0.197</td>\n",
       "      <td>0.556</td>\n",
       "      <td>160.058</td>\n",
       "    </tr>\n",
       "    <tr>\n",
       "      <th>1</th>\n",
       "      <td>4uuRFwokX9R4hnOWbreDga</td>\n",
       "      <td>Don't Light My Fire</td>\n",
       "      <td>Dreamcatcher</td>\n",
       "      <td>32</td>\n",
       "      <td>209280</td>\n",
       "      <td>2021</td>\n",
       "      <td>0.498</td>\n",
       "      <td>0.862</td>\n",
       "      <td>1</td>\n",
       "      <td>-3.966</td>\n",
       "      <td>1</td>\n",
       "      <td>0.0375</td>\n",
       "      <td>0.000221</td>\n",
       "      <td>0.000000</td>\n",
       "      <td>0.104</td>\n",
       "      <td>0.329</td>\n",
       "      <td>130.035</td>\n",
       "    </tr>\n",
       "    <tr>\n",
       "      <th>2</th>\n",
       "      <td>5F5W7RRODrX41Np6M2cK5i</td>\n",
       "      <td>Eclipse</td>\n",
       "      <td>Dreamcatcher</td>\n",
       "      <td>35</td>\n",
       "      <td>203613</td>\n",
       "      <td>2021</td>\n",
       "      <td>0.591</td>\n",
       "      <td>0.962</td>\n",
       "      <td>1</td>\n",
       "      <td>-2.575</td>\n",
       "      <td>0</td>\n",
       "      <td>0.0864</td>\n",
       "      <td>0.096000</td>\n",
       "      <td>0.000000</td>\n",
       "      <td>0.120</td>\n",
       "      <td>0.706</td>\n",
       "      <td>97.493</td>\n",
       "    </tr>\n",
       "    <tr>\n",
       "      <th>3</th>\n",
       "      <td>2u7p3Bzkv8h0Yx7w7R370n</td>\n",
       "      <td>BOCA</td>\n",
       "      <td>Dreamcatcher</td>\n",
       "      <td>0</td>\n",
       "      <td>189546</td>\n",
       "      <td>2020</td>\n",
       "      <td>0.684</td>\n",
       "      <td>0.948</td>\n",
       "      <td>8</td>\n",
       "      <td>-1.713</td>\n",
       "      <td>0</td>\n",
       "      <td>0.0576</td>\n",
       "      <td>0.006760</td>\n",
       "      <td>0.000047</td>\n",
       "      <td>0.125</td>\n",
       "      <td>0.643</td>\n",
       "      <td>99.981</td>\n",
       "    </tr>\n",
       "    <tr>\n",
       "      <th>4</th>\n",
       "      <td>2GOVhdRm7EqSk8k1STWv2x</td>\n",
       "      <td>\\xeb\\xb0\\x94\\xeb\\x9e\\x8c\\xec\\x95\\x84 (Wind Blows)</td>\n",
       "      <td>Dreamcatcher</td>\n",
       "      <td>0</td>\n",
       "      <td>197493</td>\n",
       "      <td>2021</td>\n",
       "      <td>0.514</td>\n",
       "      <td>0.963</td>\n",
       "      <td>4</td>\n",
       "      <td>-2.931</td>\n",
       "      <td>0</td>\n",
       "      <td>0.1140</td>\n",
       "      <td>0.002340</td>\n",
       "      <td>0.000000</td>\n",
       "      <td>0.526</td>\n",
       "      <td>0.591</td>\n",
       "      <td>164.987</td>\n",
       "    </tr>\n",
       "  </tbody>\n",
       "</table>\n",
       "</div>"
      ],
      "text/plain": [
       "                       id                                               name  \\\n",
       "0  1RtlbxsPpDBsHHmGTb7ah2                                            Odd Eye   \n",
       "1  4uuRFwokX9R4hnOWbreDga                                Don't Light My Fire   \n",
       "2  5F5W7RRODrX41Np6M2cK5i                                            Eclipse   \n",
       "3  2u7p3Bzkv8h0Yx7w7R370n                                               BOCA   \n",
       "4  2GOVhdRm7EqSk8k1STWv2x  \\xeb\\xb0\\x94\\xeb\\x9e\\x8c\\xec\\x95\\x84 (Wind Blows)   \n",
       "\n",
       "         artist  popularity  duration_ms  year  danceability  energy  key  \\\n",
       "0  Dreamcatcher           0       184413  2021         0.537   0.932    6   \n",
       "1  Dreamcatcher          32       209280  2021         0.498   0.862    1   \n",
       "2  Dreamcatcher          35       203613  2021         0.591   0.962    1   \n",
       "3  Dreamcatcher           0       189546  2020         0.684   0.948    8   \n",
       "4  Dreamcatcher           0       197493  2021         0.514   0.963    4   \n",
       "\n",
       "   loudness  mode  speechiness  acousticness  instrumentalness  liveness  \\\n",
       "0    -1.840     0       0.0869      0.048700          0.000000     0.197   \n",
       "1    -3.966     1       0.0375      0.000221          0.000000     0.104   \n",
       "2    -2.575     0       0.0864      0.096000          0.000000     0.120   \n",
       "3    -1.713     0       0.0576      0.006760          0.000047     0.125   \n",
       "4    -2.931     0       0.1140      0.002340          0.000000     0.526   \n",
       "\n",
       "   valence    tempo  \n",
       "0    0.556  160.058  \n",
       "1    0.329  130.035  \n",
       "2    0.706   97.493  \n",
       "3    0.643   99.981  \n",
       "4    0.591  164.987  "
      ]
     },
     "execution_count": 8,
     "metadata": {},
     "output_type": "execute_result"
    }
   ],
   "source": [
    "## Hapus karakter yang tidak perlu pada kolom artist dan name\n",
    "data['artist'] = data['artist'].map(lambda x: str(x)[2:-1])\n",
    "data['name'] = data['name'].map(lambda x: str(x)[2:-1])\n",
    "\n",
    "data.head()"
   ]
  },
  {
   "cell_type": "code",
   "execution_count": 9,
   "metadata": {},
   "outputs": [
    {
     "data": {
      "text/html": [
       "<div>\n",
       "<style scoped>\n",
       "    .dataframe tbody tr th:only-of-type {\n",
       "        vertical-align: middle;\n",
       "    }\n",
       "\n",
       "    .dataframe tbody tr th {\n",
       "        vertical-align: top;\n",
       "    }\n",
       "\n",
       "    .dataframe thead th {\n",
       "        text-align: right;\n",
       "    }\n",
       "</style>\n",
       "<table border=\"1\" class=\"dataframe\">\n",
       "  <thead>\n",
       "    <tr style=\"text-align: right;\">\n",
       "      <th></th>\n",
       "      <th>id</th>\n",
       "      <th>name</th>\n",
       "      <th>artist</th>\n",
       "      <th>popularity</th>\n",
       "      <th>duration_ms</th>\n",
       "      <th>year</th>\n",
       "      <th>danceability</th>\n",
       "      <th>energy</th>\n",
       "      <th>key</th>\n",
       "      <th>loudness</th>\n",
       "      <th>mode</th>\n",
       "      <th>speechiness</th>\n",
       "      <th>acousticness</th>\n",
       "      <th>instrumentalness</th>\n",
       "      <th>liveness</th>\n",
       "      <th>valence</th>\n",
       "      <th>tempo</th>\n",
       "    </tr>\n",
       "  </thead>\n",
       "  <tbody>\n",
       "    <tr>\n",
       "      <th>0</th>\n",
       "      <td>1RtlbxsPpDBsHHmGTb7ah2</td>\n",
       "      <td>Odd Eye</td>\n",
       "      <td>Dreamcatcher</td>\n",
       "      <td>0</td>\n",
       "      <td>184413</td>\n",
       "      <td>2021</td>\n",
       "      <td>0.537</td>\n",
       "      <td>0.932</td>\n",
       "      <td>6</td>\n",
       "      <td>-1.840</td>\n",
       "      <td>0</td>\n",
       "      <td>0.0869</td>\n",
       "      <td>0.048700</td>\n",
       "      <td>0.000000</td>\n",
       "      <td>0.197</td>\n",
       "      <td>0.556</td>\n",
       "      <td>160.058</td>\n",
       "    </tr>\n",
       "    <tr>\n",
       "      <th>1</th>\n",
       "      <td>4uuRFwokX9R4hnOWbreDga</td>\n",
       "      <td>Don't Light My Fire</td>\n",
       "      <td>Dreamcatcher</td>\n",
       "      <td>32</td>\n",
       "      <td>209280</td>\n",
       "      <td>2021</td>\n",
       "      <td>0.498</td>\n",
       "      <td>0.862</td>\n",
       "      <td>1</td>\n",
       "      <td>-3.966</td>\n",
       "      <td>1</td>\n",
       "      <td>0.0375</td>\n",
       "      <td>0.000221</td>\n",
       "      <td>0.000000</td>\n",
       "      <td>0.104</td>\n",
       "      <td>0.329</td>\n",
       "      <td>130.035</td>\n",
       "    </tr>\n",
       "    <tr>\n",
       "      <th>2</th>\n",
       "      <td>5F5W7RRODrX41Np6M2cK5i</td>\n",
       "      <td>Eclipse</td>\n",
       "      <td>Dreamcatcher</td>\n",
       "      <td>35</td>\n",
       "      <td>203613</td>\n",
       "      <td>2021</td>\n",
       "      <td>0.591</td>\n",
       "      <td>0.962</td>\n",
       "      <td>1</td>\n",
       "      <td>-2.575</td>\n",
       "      <td>0</td>\n",
       "      <td>0.0864</td>\n",
       "      <td>0.096000</td>\n",
       "      <td>0.000000</td>\n",
       "      <td>0.120</td>\n",
       "      <td>0.706</td>\n",
       "      <td>97.493</td>\n",
       "    </tr>\n",
       "    <tr>\n",
       "      <th>3</th>\n",
       "      <td>2u7p3Bzkv8h0Yx7w7R370n</td>\n",
       "      <td>BOCA</td>\n",
       "      <td>Dreamcatcher</td>\n",
       "      <td>0</td>\n",
       "      <td>189546</td>\n",
       "      <td>2020</td>\n",
       "      <td>0.684</td>\n",
       "      <td>0.948</td>\n",
       "      <td>8</td>\n",
       "      <td>-1.713</td>\n",
       "      <td>0</td>\n",
       "      <td>0.0576</td>\n",
       "      <td>0.006760</td>\n",
       "      <td>0.000047</td>\n",
       "      <td>0.125</td>\n",
       "      <td>0.643</td>\n",
       "      <td>99.981</td>\n",
       "    </tr>\n",
       "    <tr>\n",
       "      <th>4</th>\n",
       "      <td>2GOVhdRm7EqSk8k1STWv2x</td>\n",
       "      <td>\\xeb\\xb0\\x94\\xeb\\x9e\\x8c\\xec\\x95\\x84 (Wind Blows)</td>\n",
       "      <td>Dreamcatcher</td>\n",
       "      <td>0</td>\n",
       "      <td>197493</td>\n",
       "      <td>2021</td>\n",
       "      <td>0.514</td>\n",
       "      <td>0.963</td>\n",
       "      <td>4</td>\n",
       "      <td>-2.931</td>\n",
       "      <td>0</td>\n",
       "      <td>0.1140</td>\n",
       "      <td>0.002340</td>\n",
       "      <td>0.000000</td>\n",
       "      <td>0.526</td>\n",
       "      <td>0.591</td>\n",
       "      <td>164.987</td>\n",
       "    </tr>\n",
       "  </tbody>\n",
       "</table>\n",
       "</div>"
      ],
      "text/plain": [
       "                       id                                               name  \\\n",
       "0  1RtlbxsPpDBsHHmGTb7ah2                                            Odd Eye   \n",
       "1  4uuRFwokX9R4hnOWbreDga                                Don't Light My Fire   \n",
       "2  5F5W7RRODrX41Np6M2cK5i                                            Eclipse   \n",
       "3  2u7p3Bzkv8h0Yx7w7R370n                                               BOCA   \n",
       "4  2GOVhdRm7EqSk8k1STWv2x  \\xeb\\xb0\\x94\\xeb\\x9e\\x8c\\xec\\x95\\x84 (Wind Blows)   \n",
       "\n",
       "         artist  popularity  duration_ms  year  danceability  energy  key  \\\n",
       "0  Dreamcatcher           0       184413  2021         0.537   0.932    6   \n",
       "1  Dreamcatcher          32       209280  2021         0.498   0.862    1   \n",
       "2  Dreamcatcher          35       203613  2021         0.591   0.962    1   \n",
       "3  Dreamcatcher           0       189546  2020         0.684   0.948    8   \n",
       "4  Dreamcatcher           0       197493  2021         0.514   0.963    4   \n",
       "\n",
       "   loudness  mode  speechiness  acousticness  instrumentalness  liveness  \\\n",
       "0    -1.840     0       0.0869      0.048700          0.000000     0.197   \n",
       "1    -3.966     1       0.0375      0.000221          0.000000     0.104   \n",
       "2    -2.575     0       0.0864      0.096000          0.000000     0.120   \n",
       "3    -1.713     0       0.0576      0.006760          0.000047     0.125   \n",
       "4    -2.931     0       0.1140      0.002340          0.000000     0.526   \n",
       "\n",
       "   valence    tempo  \n",
       "0    0.556  160.058  \n",
       "1    0.329  130.035  \n",
       "2    0.706   97.493  \n",
       "3    0.643   99.981  \n",
       "4    0.591  164.987  "
      ]
     },
     "execution_count": 9,
     "metadata": {},
     "output_type": "execute_result"
    }
   ],
   "source": [
    "##delete empty string in name column\n",
    "data = data[data['name'] != '']\n",
    "\n",
    "##reset index\n",
    "data = data.reset_index(drop=True)\n",
    "data.head()"
   ]
  },
  {
   "cell_type": "code",
   "execution_count": 10,
   "metadata": {},
   "outputs": [
    {
     "data": {
      "text/html": [
       "<div>\n",
       "<style scoped>\n",
       "    .dataframe tbody tr th:only-of-type {\n",
       "        vertical-align: middle;\n",
       "    }\n",
       "\n",
       "    .dataframe tbody tr th {\n",
       "        vertical-align: top;\n",
       "    }\n",
       "\n",
       "    .dataframe thead th {\n",
       "        text-align: right;\n",
       "    }\n",
       "</style>\n",
       "<table border=\"1\" class=\"dataframe\">\n",
       "  <thead>\n",
       "    <tr style=\"text-align: right;\">\n",
       "      <th></th>\n",
       "      <th>id</th>\n",
       "      <th>name</th>\n",
       "      <th>artist</th>\n",
       "      <th>popularity</th>\n",
       "      <th>duration_ms</th>\n",
       "      <th>year</th>\n",
       "      <th>danceability</th>\n",
       "      <th>energy</th>\n",
       "      <th>key</th>\n",
       "      <th>loudness</th>\n",
       "      <th>mode</th>\n",
       "      <th>speechiness</th>\n",
       "      <th>acousticness</th>\n",
       "      <th>instrumentalness</th>\n",
       "      <th>liveness</th>\n",
       "      <th>valence</th>\n",
       "      <th>tempo</th>\n",
       "    </tr>\n",
       "  </thead>\n",
       "  <tbody>\n",
       "    <tr>\n",
       "      <th>0</th>\n",
       "      <td>1RtlbxsPpDBsHHmGTb7ah2</td>\n",
       "      <td>Odd Eye</td>\n",
       "      <td>Dreamcatcher</td>\n",
       "      <td>0</td>\n",
       "      <td>184413</td>\n",
       "      <td>2021</td>\n",
       "      <td>0.537</td>\n",
       "      <td>0.932</td>\n",
       "      <td>6</td>\n",
       "      <td>-1.840</td>\n",
       "      <td>0</td>\n",
       "      <td>0.0869</td>\n",
       "      <td>0.048700</td>\n",
       "      <td>0.000000</td>\n",
       "      <td>0.197</td>\n",
       "      <td>0.556</td>\n",
       "      <td>160.058</td>\n",
       "    </tr>\n",
       "    <tr>\n",
       "      <th>1</th>\n",
       "      <td>4uuRFwokX9R4hnOWbreDga</td>\n",
       "      <td>Don't Light My Fire</td>\n",
       "      <td>Dreamcatcher</td>\n",
       "      <td>32</td>\n",
       "      <td>209280</td>\n",
       "      <td>2021</td>\n",
       "      <td>0.498</td>\n",
       "      <td>0.862</td>\n",
       "      <td>1</td>\n",
       "      <td>-3.966</td>\n",
       "      <td>1</td>\n",
       "      <td>0.0375</td>\n",
       "      <td>0.000221</td>\n",
       "      <td>0.000000</td>\n",
       "      <td>0.104</td>\n",
       "      <td>0.329</td>\n",
       "      <td>130.035</td>\n",
       "    </tr>\n",
       "    <tr>\n",
       "      <th>2</th>\n",
       "      <td>5F5W7RRODrX41Np6M2cK5i</td>\n",
       "      <td>Eclipse</td>\n",
       "      <td>Dreamcatcher</td>\n",
       "      <td>35</td>\n",
       "      <td>203613</td>\n",
       "      <td>2021</td>\n",
       "      <td>0.591</td>\n",
       "      <td>0.962</td>\n",
       "      <td>1</td>\n",
       "      <td>-2.575</td>\n",
       "      <td>0</td>\n",
       "      <td>0.0864</td>\n",
       "      <td>0.096000</td>\n",
       "      <td>0.000000</td>\n",
       "      <td>0.120</td>\n",
       "      <td>0.706</td>\n",
       "      <td>97.493</td>\n",
       "    </tr>\n",
       "    <tr>\n",
       "      <th>3</th>\n",
       "      <td>2u7p3Bzkv8h0Yx7w7R370n</td>\n",
       "      <td>BOCA</td>\n",
       "      <td>Dreamcatcher</td>\n",
       "      <td>0</td>\n",
       "      <td>189546</td>\n",
       "      <td>2020</td>\n",
       "      <td>0.684</td>\n",
       "      <td>0.948</td>\n",
       "      <td>8</td>\n",
       "      <td>-1.713</td>\n",
       "      <td>0</td>\n",
       "      <td>0.0576</td>\n",
       "      <td>0.006760</td>\n",
       "      <td>0.000047</td>\n",
       "      <td>0.125</td>\n",
       "      <td>0.643</td>\n",
       "      <td>99.981</td>\n",
       "    </tr>\n",
       "    <tr>\n",
       "      <th>4</th>\n",
       "      <td>2GOVhdRm7EqSk8k1STWv2x</td>\n",
       "      <td>\\xeb\\xb0\\x94\\xeb\\x9e\\x8c\\xec\\x95\\x84 (Wind Blows)</td>\n",
       "      <td>Dreamcatcher</td>\n",
       "      <td>0</td>\n",
       "      <td>197493</td>\n",
       "      <td>2021</td>\n",
       "      <td>0.514</td>\n",
       "      <td>0.963</td>\n",
       "      <td>4</td>\n",
       "      <td>-2.931</td>\n",
       "      <td>0</td>\n",
       "      <td>0.1140</td>\n",
       "      <td>0.002340</td>\n",
       "      <td>0.000000</td>\n",
       "      <td>0.526</td>\n",
       "      <td>0.591</td>\n",
       "      <td>164.987</td>\n",
       "    </tr>\n",
       "  </tbody>\n",
       "</table>\n",
       "</div>"
      ],
      "text/plain": [
       "                       id                                               name  \\\n",
       "0  1RtlbxsPpDBsHHmGTb7ah2                                            Odd Eye   \n",
       "1  4uuRFwokX9R4hnOWbreDga                                Don't Light My Fire   \n",
       "2  5F5W7RRODrX41Np6M2cK5i                                            Eclipse   \n",
       "3  2u7p3Bzkv8h0Yx7w7R370n                                               BOCA   \n",
       "4  2GOVhdRm7EqSk8k1STWv2x  \\xeb\\xb0\\x94\\xeb\\x9e\\x8c\\xec\\x95\\x84 (Wind Blows)   \n",
       "\n",
       "         artist  popularity  duration_ms  year  danceability  energy  key  \\\n",
       "0  Dreamcatcher           0       184413  2021         0.537   0.932    6   \n",
       "1  Dreamcatcher          32       209280  2021         0.498   0.862    1   \n",
       "2  Dreamcatcher          35       203613  2021         0.591   0.962    1   \n",
       "3  Dreamcatcher           0       189546  2020         0.684   0.948    8   \n",
       "4  Dreamcatcher           0       197493  2021         0.514   0.963    4   \n",
       "\n",
       "   loudness  mode  speechiness  acousticness  instrumentalness  liveness  \\\n",
       "0    -1.840     0       0.0869      0.048700          0.000000     0.197   \n",
       "1    -3.966     1       0.0375      0.000221          0.000000     0.104   \n",
       "2    -2.575     0       0.0864      0.096000          0.000000     0.120   \n",
       "3    -1.713     0       0.0576      0.006760          0.000047     0.125   \n",
       "4    -2.931     0       0.1140      0.002340          0.000000     0.526   \n",
       "\n",
       "   valence    tempo  \n",
       "0    0.556  160.058  \n",
       "1    0.329  130.035  \n",
       "2    0.706   97.493  \n",
       "3    0.643   99.981  \n",
       "4    0.591  164.987  "
      ]
     },
     "execution_count": 10,
     "metadata": {},
     "output_type": "execute_result"
    }
   ],
   "source": [
    "##delete empty string in name column\n",
    "data = data[data['name'] != '']\n",
    "\n",
    "##reset index\n",
    "data = data.reset_index(drop=True)\n",
    "data.head()"
   ]
  },
  {
   "cell_type": "code",
   "execution_count": 11,
   "metadata": {},
   "outputs": [
    {
     "data": {
      "text/html": [
       "<div>\n",
       "<style scoped>\n",
       "    .dataframe tbody tr th:only-of-type {\n",
       "        vertical-align: middle;\n",
       "    }\n",
       "\n",
       "    .dataframe tbody tr th {\n",
       "        vertical-align: top;\n",
       "    }\n",
       "\n",
       "    .dataframe thead th {\n",
       "        text-align: right;\n",
       "    }\n",
       "</style>\n",
       "<table border=\"1\" class=\"dataframe\">\n",
       "  <thead>\n",
       "    <tr style=\"text-align: right;\">\n",
       "      <th></th>\n",
       "      <th>danceability</th>\n",
       "      <th>energy</th>\n",
       "      <th>loudness</th>\n",
       "      <th>speechiness</th>\n",
       "      <th>acousticness</th>\n",
       "      <th>instrumentalness</th>\n",
       "      <th>liveness</th>\n",
       "      <th>valence</th>\n",
       "      <th>tempo</th>\n",
       "    </tr>\n",
       "  </thead>\n",
       "  <tbody>\n",
       "    <tr>\n",
       "      <th>0</th>\n",
       "      <td>0.537</td>\n",
       "      <td>0.932</td>\n",
       "      <td>-1.840</td>\n",
       "      <td>0.0869</td>\n",
       "      <td>0.048700</td>\n",
       "      <td>0.000000</td>\n",
       "      <td>0.197</td>\n",
       "      <td>0.556</td>\n",
       "      <td>160.058</td>\n",
       "    </tr>\n",
       "    <tr>\n",
       "      <th>1</th>\n",
       "      <td>0.498</td>\n",
       "      <td>0.862</td>\n",
       "      <td>-3.966</td>\n",
       "      <td>0.0375</td>\n",
       "      <td>0.000221</td>\n",
       "      <td>0.000000</td>\n",
       "      <td>0.104</td>\n",
       "      <td>0.329</td>\n",
       "      <td>130.035</td>\n",
       "    </tr>\n",
       "    <tr>\n",
       "      <th>2</th>\n",
       "      <td>0.591</td>\n",
       "      <td>0.962</td>\n",
       "      <td>-2.575</td>\n",
       "      <td>0.0864</td>\n",
       "      <td>0.096000</td>\n",
       "      <td>0.000000</td>\n",
       "      <td>0.120</td>\n",
       "      <td>0.706</td>\n",
       "      <td>97.493</td>\n",
       "    </tr>\n",
       "    <tr>\n",
       "      <th>3</th>\n",
       "      <td>0.684</td>\n",
       "      <td>0.948</td>\n",
       "      <td>-1.713</td>\n",
       "      <td>0.0576</td>\n",
       "      <td>0.006760</td>\n",
       "      <td>0.000047</td>\n",
       "      <td>0.125</td>\n",
       "      <td>0.643</td>\n",
       "      <td>99.981</td>\n",
       "    </tr>\n",
       "    <tr>\n",
       "      <th>4</th>\n",
       "      <td>0.514</td>\n",
       "      <td>0.963</td>\n",
       "      <td>-2.931</td>\n",
       "      <td>0.1140</td>\n",
       "      <td>0.002340</td>\n",
       "      <td>0.000000</td>\n",
       "      <td>0.526</td>\n",
       "      <td>0.591</td>\n",
       "      <td>164.987</td>\n",
       "    </tr>\n",
       "  </tbody>\n",
       "</table>\n",
       "</div>"
      ],
      "text/plain": [
       "   danceability  energy  loudness  speechiness  acousticness  \\\n",
       "0         0.537   0.932    -1.840       0.0869      0.048700   \n",
       "1         0.498   0.862    -3.966       0.0375      0.000221   \n",
       "2         0.591   0.962    -2.575       0.0864      0.096000   \n",
       "3         0.684   0.948    -1.713       0.0576      0.006760   \n",
       "4         0.514   0.963    -2.931       0.1140      0.002340   \n",
       "\n",
       "   instrumentalness  liveness  valence    tempo  \n",
       "0          0.000000     0.197    0.556  160.058  \n",
       "1          0.000000     0.104    0.329  130.035  \n",
       "2          0.000000     0.120    0.706   97.493  \n",
       "3          0.000047     0.125    0.643   99.981  \n",
       "4          0.000000     0.526    0.591  164.987  "
      ]
     },
     "execution_count": 11,
     "metadata": {},
     "output_type": "execute_result"
    }
   ],
   "source": [
    "## drop name artist and year column\n",
    "data2 = data.copy()\n",
    "data2 = data2.drop(['artist', 'name', 'year', 'popularity', 'key','duration_ms', 'mode', 'id'], axis=1)\n",
    "\n",
    "data2.head()"
   ]
  },
  {
   "cell_type": "code",
   "execution_count": 12,
   "metadata": {},
   "outputs": [
    {
     "data": {
      "text/html": [
       "<div>\n",
       "<style scoped>\n",
       "    .dataframe tbody tr th:only-of-type {\n",
       "        vertical-align: middle;\n",
       "    }\n",
       "\n",
       "    .dataframe tbody tr th {\n",
       "        vertical-align: top;\n",
       "    }\n",
       "\n",
       "    .dataframe thead th {\n",
       "        text-align: right;\n",
       "    }\n",
       "</style>\n",
       "<table border=\"1\" class=\"dataframe\">\n",
       "  <thead>\n",
       "    <tr style=\"text-align: right;\">\n",
       "      <th></th>\n",
       "      <th>acousticness</th>\n",
       "      <th>danceability</th>\n",
       "      <th>energy</th>\n",
       "      <th>instrumentalness</th>\n",
       "      <th>loudness</th>\n",
       "      <th>liveness</th>\n",
       "      <th>speechiness</th>\n",
       "      <th>tempo</th>\n",
       "      <th>valence</th>\n",
       "    </tr>\n",
       "  </thead>\n",
       "  <tbody>\n",
       "    <tr>\n",
       "      <th>count</th>\n",
       "      <td>100.000000</td>\n",
       "      <td>100.000000</td>\n",
       "      <td>100.000000</td>\n",
       "      <td>100.000000</td>\n",
       "      <td>100.000000</td>\n",
       "      <td>100.000000</td>\n",
       "      <td>100.000000</td>\n",
       "      <td>100.000000</td>\n",
       "      <td>100.000000</td>\n",
       "    </tr>\n",
       "    <tr>\n",
       "      <th>mean</th>\n",
       "      <td>0.512080</td>\n",
       "      <td>0.751374</td>\n",
       "      <td>0.655867</td>\n",
       "      <td>0.168272</td>\n",
       "      <td>0.132609</td>\n",
       "      <td>0.028731</td>\n",
       "      <td>0.249843</td>\n",
       "      <td>0.554519</td>\n",
       "      <td>0.453097</td>\n",
       "    </tr>\n",
       "    <tr>\n",
       "      <th>std</th>\n",
       "      <td>0.196331</td>\n",
       "      <td>0.174466</td>\n",
       "      <td>0.203852</td>\n",
       "      <td>0.180808</td>\n",
       "      <td>0.173450</td>\n",
       "      <td>0.119348</td>\n",
       "      <td>0.217102</td>\n",
       "      <td>0.222820</td>\n",
       "      <td>0.218242</td>\n",
       "    </tr>\n",
       "    <tr>\n",
       "      <th>min</th>\n",
       "      <td>0.000000</td>\n",
       "      <td>0.000000</td>\n",
       "      <td>0.000000</td>\n",
       "      <td>0.000000</td>\n",
       "      <td>0.000000</td>\n",
       "      <td>0.000000</td>\n",
       "      <td>0.000000</td>\n",
       "      <td>0.000000</td>\n",
       "      <td>0.000000</td>\n",
       "    </tr>\n",
       "    <tr>\n",
       "      <th>25%</th>\n",
       "      <td>0.388359</td>\n",
       "      <td>0.658175</td>\n",
       "      <td>0.548360</td>\n",
       "      <td>0.053389</td>\n",
       "      <td>0.015261</td>\n",
       "      <td>0.000000</td>\n",
       "      <td>0.089339</td>\n",
       "      <td>0.415087</td>\n",
       "      <td>0.267983</td>\n",
       "    </tr>\n",
       "    <tr>\n",
       "      <th>50%</th>\n",
       "      <td>0.527672</td>\n",
       "      <td>0.770142</td>\n",
       "      <td>0.673691</td>\n",
       "      <td>0.117580</td>\n",
       "      <td>0.061870</td>\n",
       "      <td>0.000000</td>\n",
       "      <td>0.175167</td>\n",
       "      <td>0.547376</td>\n",
       "      <td>0.421718</td>\n",
       "    </tr>\n",
       "    <tr>\n",
       "      <th>75%</th>\n",
       "      <td>0.651240</td>\n",
       "      <td>0.885071</td>\n",
       "      <td>0.809734</td>\n",
       "      <td>0.211394</td>\n",
       "      <td>0.189643</td>\n",
       "      <td>0.002465</td>\n",
       "      <td>0.352035</td>\n",
       "      <td>0.717566</td>\n",
       "      <td>0.632701</td>\n",
       "    </tr>\n",
       "    <tr>\n",
       "      <th>max</th>\n",
       "      <td>1.000000</td>\n",
       "      <td>1.000000</td>\n",
       "      <td>1.000000</td>\n",
       "      <td>1.000000</td>\n",
       "      <td>1.000000</td>\n",
       "      <td>1.000000</td>\n",
       "      <td>1.000000</td>\n",
       "      <td>1.000000</td>\n",
       "      <td>1.000000</td>\n",
       "    </tr>\n",
       "  </tbody>\n",
       "</table>\n",
       "</div>"
      ],
      "text/plain": [
       "       acousticness  danceability      energy  instrumentalness    loudness  \\\n",
       "count    100.000000    100.000000  100.000000        100.000000  100.000000   \n",
       "mean       0.512080      0.751374    0.655867          0.168272    0.132609   \n",
       "std        0.196331      0.174466    0.203852          0.180808    0.173450   \n",
       "min        0.000000      0.000000    0.000000          0.000000    0.000000   \n",
       "25%        0.388359      0.658175    0.548360          0.053389    0.015261   \n",
       "50%        0.527672      0.770142    0.673691          0.117580    0.061870   \n",
       "75%        0.651240      0.885071    0.809734          0.211394    0.189643   \n",
       "max        1.000000      1.000000    1.000000          1.000000    1.000000   \n",
       "\n",
       "         liveness  speechiness       tempo     valence  \n",
       "count  100.000000   100.000000  100.000000  100.000000  \n",
       "mean     0.028731     0.249843    0.554519    0.453097  \n",
       "std      0.119348     0.217102    0.222820    0.218242  \n",
       "min      0.000000     0.000000    0.000000    0.000000  \n",
       "25%      0.000000     0.089339    0.415087    0.267983  \n",
       "50%      0.000000     0.175167    0.547376    0.421718  \n",
       "75%      0.002465     0.352035    0.717566    0.632701  \n",
       "max      1.000000     1.000000    1.000000    1.000000  "
      ]
     },
     "execution_count": 12,
     "metadata": {},
     "output_type": "execute_result"
    }
   ],
   "source": [
    "from sklearn import preprocessing\n",
    "\n",
    "## normalize all data to 0 and 1\n",
    "x = data2.values ##returns a numpy array\n",
    "min_max_scaler = preprocessing.MinMaxScaler()\n",
    "x_scaled = min_max_scaler.fit_transform(x)\n",
    "data2 = pd.DataFrame(x_scaled)\n",
    "\n",
    "## convert to dataframe\n",
    "data2.columns = ['acousticness','danceability','energy','instrumentalness','loudness', 'liveness', 'speechiness', 'tempo','valence']\n",
    "\n",
    "## data2.head()\n",
    "data2.describe()"
   ]
  },
  {
   "cell_type": "code",
   "execution_count": 13,
   "metadata": {},
   "outputs": [
    {
     "data": {
      "application/vnd.plotly.v1+json": {
       "config": {
        "plotlyServerURL": "https://plot.ly"
       },
       "data": [
        {
         "hovertemplate": "x=%{x}<br>y=%{y}<extra></extra>",
         "legendgroup": "",
         "marker": {
          "color": "#000001",
          "symbol": "circle"
         },
         "mode": "markers",
         "name": "",
         "orientation": "v",
         "showlegend": false,
         "type": "scatter",
         "x": [
          0.33300250360072514,
          -0.07613586994289352,
          -0.004456184198391353,
          -0.07489871942828745,
          0.4155811218738096,
          0.32536755859419403,
          0.18800858964122127,
          0.4601649871489055,
          0.13052246976043813,
          0.22922591350388358,
          0.25562667114935367,
          0.41227869313532756,
          -0.14762339604972657,
          -0.4950261061137798,
          -0.1721836310871141,
          -0.1782375732232969,
          -0.16508607661908672,
          -0.1202956709874563,
          0.03437296411504162,
          -0.7795044372019823,
          0.2233563049816649,
          -0.11057374620742112,
          -0.5741895261882252,
          0.11319003321032045,
          -0.2713850755838225,
          -0.20864881806899982,
          -0.3528622530484104,
          -0.029170729640521312,
          0.31367547495330905,
          -0.20027217556578444,
          -0.048217839390762914,
          -0.03558321613026825,
          0.5064951847164804,
          0.014672770855296627,
          -0.06331710345216178,
          -0.3043669819500456,
          -0.03852639129336857,
          -0.10800326244412517,
          -0.44242667722093393,
          0.08575928960649261,
          0.691917352738045,
          -0.1601141016326051,
          0.582523682130004,
          0.17131556143005747,
          0.2580813983790556,
          -0.3048479962259036,
          -0.0612059823302356,
          -0.5477563913632283,
          0.23342855241483368,
          0.0817482247753093,
          0.13144949514711365,
          -0.16331602148978627,
          -0.38136104874145355,
          -0.2008305871902112,
          0.5261952029681377,
          0.07333304780505091,
          -0.16334515853648737,
          -0.09279932070333917,
          -0.518272716838425,
          0.8906223124586697,
          -0.09847107300105241,
          0.06941876057604236,
          0.1641721956247274,
          -0.18949597167164825,
          0.23790559157024782,
          -0.3264796664695848,
          0.1101720186132733,
          -0.1765174946728891,
          -0.07712292598175575,
          -0.07525815171475851,
          0.10367138235462507,
          -0.24955748875877015,
          -0.04582012774773778,
          0.05404537164649186,
          0.05912625797469181,
          0.35718968101110393,
          -0.1949204085358724,
          -0.18984011379848462,
          0.6470868128734945,
          -0.37370356925930825,
          0.20347497102969575,
          0.39560413725090376,
          0.10840834840412594,
          -0.08475784439711356,
          0.43263123935939,
          0.36947657809953,
          -0.3257664963798897,
          0.2793846082389874,
          -0.10332605746309116,
          0.327080647623476,
          -0.27906079470348055,
          -0.3456772995207412,
          -0.05823377546211421,
          -0.2945035087480202,
          0.08251259733167818,
          -0.3642861368097372,
          0.24052626784741574,
          0.11558818702607498,
          -0.4905440277878462,
          -0.10120729657626003
         ],
         "xaxis": "x",
         "y": [
          0.03998727940985886,
          0.43837022886953814,
          -0.2902751257947743,
          -0.3020687170773231,
          0.09549349618683232,
          0.11088895737481722,
          -0.2881985964847492,
          0.7876386110932313,
          -0.08438203144599349,
          0.008995857879285672,
          -0.37856116737970097,
          0.1355516523227672,
          0.40015829609971804,
          0.47387994917958737,
          -0.03725353966672905,
          0.3124939185880189,
          -0.3348335697569785,
          -0.1829578291769858,
          0.1727909321983827,
          0.34253656801336774,
          -0.28042272198835183,
          -0.2818131824429829,
          0.07656829569292864,
          0.09615506723204092,
          0.29397185617592847,
          -0.016569494301696186,
          -0.3398334610321165,
          0.5619358561350326,
          0.21739257492528732,
          -0.09809239591028523,
          -0.21086866045093652,
          -0.11143602279814264,
          -0.0889954502016157,
          -0.44001298756422375,
          -0.03437424001628331,
          -0.0031938419671497524,
          -0.348856675475605,
          -0.35831010146816195,
          0.40011390346417103,
          0.16855440722110177,
          0.13832418984890882,
          0.2815508777150259,
          -0.07025360657239133,
          -0.14848199241478424,
          -0.041290356520052876,
          -0.13808921612080502,
          -0.013607139252891571,
          0.06453151575451678,
          0.2713425079508988,
          0.12914809067504363,
          0.14028591958002604,
          0.3684226176017498,
          0.19018301090899145,
          -0.15515051276865635,
          0.403365181411258,
          -0.5282937563666998,
          -0.23305009651762656,
          -0.6413123532078583,
          0.24925549185768242,
          0.13595377061271435,
          -0.3538018611565442,
          -0.13434192729310696,
          0.2522991888865078,
          0.12195432856993926,
          -0.011357509359730816,
          -0.15971495581118875,
          -0.2096025535513177,
          -0.2445048244917415,
          0.0535433433895763,
          0.12164780797151842,
          -0.2560758993728636,
          0.3545576312268806,
          -0.18739832697884876,
          0.02391361501135864,
          -0.11962172554115805,
          0.1659382639570611,
          0.058838098257213554,
          -0.11152767393619419,
          0.32885773500143345,
          0.1596779582865461,
          -0.33347793392417924,
          -0.3252335889837108,
          -0.1413883357708282,
          0.1788114953919468,
          0.24304460175815903,
          0.2660571236343037,
          0.03406095300249115,
          -0.005094979842143197,
          -0.14076440571235183,
          -0.12947144206652406,
          0.18892429431035965,
          0.03256019158390407,
          -0.08080416722015268,
          0.030962488345872955,
          0.014060574788532794,
          -0.07608462038410545,
          0.013754048137898683,
          -0.4571564666351132,
          0.07307028318652728,
          -0.2641128665023956
         ],
         "yaxis": "y"
        }
       ],
       "layout": {
        "legend": {
         "tracegroupgap": 0
        },
        "template": {
         "data": {
          "candlestick": [
           {
            "decreasing": {
             "line": {
              "color": "#000033"
             }
            },
            "increasing": {
             "line": {
              "color": "#000032"
             }
            },
            "type": "candlestick"
           }
          ],
          "contour": [
           {
            "colorscale": [
             [
              0,
              "#000011"
             ],
             [
              0.1111111111111111,
              "#000012"
             ],
             [
              0.2222222222222222,
              "#000013"
             ],
             [
              0.3333333333333333,
              "#000014"
             ],
             [
              0.4444444444444444,
              "#000015"
             ],
             [
              0.5555555555555556,
              "#000016"
             ],
             [
              0.6666666666666666,
              "#000017"
             ],
             [
              0.7777777777777778,
              "#000018"
             ],
             [
              0.8888888888888888,
              "#000019"
             ],
             [
              1,
              "#000020"
             ]
            ],
            "type": "contour"
           }
          ],
          "contourcarpet": [
           {
            "colorscale": [
             [
              0,
              "#000011"
             ],
             [
              0.1111111111111111,
              "#000012"
             ],
             [
              0.2222222222222222,
              "#000013"
             ],
             [
              0.3333333333333333,
              "#000014"
             ],
             [
              0.4444444444444444,
              "#000015"
             ],
             [
              0.5555555555555556,
              "#000016"
             ],
             [
              0.6666666666666666,
              "#000017"
             ],
             [
              0.7777777777777778,
              "#000018"
             ],
             [
              0.8888888888888888,
              "#000019"
             ],
             [
              1,
              "#000020"
             ]
            ],
            "type": "contourcarpet"
           }
          ],
          "heatmap": [
           {
            "colorscale": [
             [
              0,
              "#000011"
             ],
             [
              0.1111111111111111,
              "#000012"
             ],
             [
              0.2222222222222222,
              "#000013"
             ],
             [
              0.3333333333333333,
              "#000014"
             ],
             [
              0.4444444444444444,
              "#000015"
             ],
             [
              0.5555555555555556,
              "#000016"
             ],
             [
              0.6666666666666666,
              "#000017"
             ],
             [
              0.7777777777777778,
              "#000018"
             ],
             [
              0.8888888888888888,
              "#000019"
             ],
             [
              1,
              "#000020"
             ]
            ],
            "type": "heatmap"
           }
          ],
          "histogram2d": [
           {
            "colorscale": [
             [
              0,
              "#000011"
             ],
             [
              0.1111111111111111,
              "#000012"
             ],
             [
              0.2222222222222222,
              "#000013"
             ],
             [
              0.3333333333333333,
              "#000014"
             ],
             [
              0.4444444444444444,
              "#000015"
             ],
             [
              0.5555555555555556,
              "#000016"
             ],
             [
              0.6666666666666666,
              "#000017"
             ],
             [
              0.7777777777777778,
              "#000018"
             ],
             [
              0.8888888888888888,
              "#000019"
             ],
             [
              1,
              "#000020"
             ]
            ],
            "type": "histogram2d"
           }
          ],
          "icicle": [
           {
            "textfont": {
             "color": "white"
            },
            "type": "icicle"
           }
          ],
          "sankey": [
           {
            "textfont": {
             "color": "#000036"
            },
            "type": "sankey"
           }
          ],
          "scatter": [
           {
            "marker": {
             "line": {
              "width": 0
             }
            },
            "type": "scatter"
           }
          ],
          "table": [
           {
            "cells": {
             "fill": {
              "color": "#000038"
             },
             "font": {
              "color": "#000037"
             },
             "line": {
              "color": "#000039"
             }
            },
            "header": {
             "fill": {
              "color": "#000040"
             },
             "font": {
              "color": "#000036"
             },
             "line": {
              "color": "#000039"
             }
            },
            "type": "table"
           }
          ],
          "waterfall": [
           {
            "connector": {
             "line": {
              "color": "#000036",
              "width": 2
             }
            },
            "decreasing": {
             "marker": {
              "color": "#000033"
             }
            },
            "increasing": {
             "marker": {
              "color": "#000032"
             }
            },
            "totals": {
             "marker": {
              "color": "#000034"
             }
            },
            "type": "waterfall"
           }
          ]
         },
         "layout": {
          "coloraxis": {
           "colorscale": [
            [
             0,
             "#000011"
            ],
            [
             0.1111111111111111,
             "#000012"
            ],
            [
             0.2222222222222222,
             "#000013"
            ],
            [
             0.3333333333333333,
             "#000014"
            ],
            [
             0.4444444444444444,
             "#000015"
            ],
            [
             0.5555555555555556,
             "#000016"
            ],
            [
             0.6666666666666666,
             "#000017"
            ],
            [
             0.7777777777777778,
             "#000018"
            ],
            [
             0.8888888888888888,
             "#000019"
            ],
            [
             1,
             "#000020"
            ]
           ]
          },
          "colorscale": {
           "diverging": [
            [
             0,
             "#000021"
            ],
            [
             0.1,
             "#000022"
            ],
            [
             0.2,
             "#000023"
            ],
            [
             0.3,
             "#000024"
            ],
            [
             0.4,
             "#000025"
            ],
            [
             0.5,
             "#000026"
            ],
            [
             0.6,
             "#000027"
            ],
            [
             0.7,
             "#000028"
            ],
            [
             0.8,
             "#000029"
            ],
            [
             0.9,
             "#000030"
            ],
            [
             1,
             "#000031"
            ]
           ],
           "sequential": [
            [
             0,
             "#000011"
            ],
            [
             0.1111111111111111,
             "#000012"
            ],
            [
             0.2222222222222222,
             "#000013"
            ],
            [
             0.3333333333333333,
             "#000014"
            ],
            [
             0.4444444444444444,
             "#000015"
            ],
            [
             0.5555555555555556,
             "#000016"
            ],
            [
             0.6666666666666666,
             "#000017"
            ],
            [
             0.7777777777777778,
             "#000018"
            ],
            [
             0.8888888888888888,
             "#000019"
            ],
            [
             1,
             "#000020"
            ]
           ],
           "sequentialminus": [
            [
             0,
             "#000011"
            ],
            [
             0.1111111111111111,
             "#000012"
            ],
            [
             0.2222222222222222,
             "#000013"
            ],
            [
             0.3333333333333333,
             "#000014"
            ],
            [
             0.4444444444444444,
             "#000015"
            ],
            [
             0.5555555555555556,
             "#000016"
            ],
            [
             0.6666666666666666,
             "#000017"
            ],
            [
             0.7777777777777778,
             "#000018"
            ],
            [
             0.8888888888888888,
             "#000019"
            ],
            [
             1,
             "#000020"
            ]
           ]
          },
          "colorway": [
           "#000001",
           "#000002",
           "#000003",
           "#000004",
           "#000005",
           "#000006",
           "#000007",
           "#000008",
           "#000009",
           "#000010"
          ]
         }
        },
        "title": {
         "text": "PCA"
        },
        "xaxis": {
         "anchor": "y",
         "domain": [
          0,
          1
         ],
         "title": {
          "text": "x"
         }
        },
        "yaxis": {
         "anchor": "x",
         "domain": [
          0,
          1
         ],
         "title": {
          "text": "y"
         }
        }
       }
      }
     },
     "metadata": {},
     "output_type": "display_data"
    }
   ],
   "source": [
    "## Lakukan PCA untuk mengurangi jumlah fitur menjadi 2 fitur saja\n",
    "pca = PCA(n_components=2)\n",
    "pca.fit(data2)\n",
    "pca_data = pca.transform(data2)\n",
    "\n",
    "## buat dataframe dari hasil pca\n",
    "pca_df = pd.DataFrame(data=pca_data, columns=['x', 'y'])\n",
    "pca_df.head()\n",
    "\n",
    "## plot pca_df using plotly\n",
    "fig = px.scatter(pca_df, x='x', y='y', title='PCA')\n",
    "fig.show()"
   ]
  },
  {
   "cell_type": "code",
   "execution_count": 14,
   "metadata": {},
   "outputs": [
    {
     "data": {
      "application/vnd.plotly.v1+json": {
       "config": {
        "plotlyServerURL": "https://plot.ly"
       },
       "data": [
        {
         "customdata": [
          [
           "Dreamcatcher",
           "Odd Eye"
          ],
          [
           "Dreamcatcher",
           "Don't Light My Fire"
          ],
          [
           "Dreamcatcher",
           "Eclipse"
          ],
          [
           "Dreamcatcher",
           "BOCA"
          ],
          [
           "Dreamcatcher",
           "\\xeb\\xb0\\x94\\xeb\\x9e\\x8c\\xec\\x95\\x84 (Wind Blows)"
          ],
          [
           "EVERGLOW",
           "LA DI DA"
          ],
          [
           "aespa",
           "Savage"
          ],
          [
           "NMIXX",
           "O.O"
          ],
          [
           "CLC",
           "HELICOPTER"
          ],
          [
           "PIXY",
           "Wings"
          ],
          [
           "PURPLE KISS",
           "memeM"
          ],
          [
           "Dreamcatcher",
           "PIRI"
          ],
          [
           "KARD",
           "GUNSHOT"
          ],
          [
           "EVERGLOW",
           "Pirate"
          ],
          [
           "Dreamcatcher",
           "YOU AND I"
          ],
          [
           "PinkFantasy",
           "Fantasy"
          ],
          [
           "PURPLE KISS",
           "My Heart Skip a Beat"
          ],
          [
           "ATEEZ",
           "Fireworks (I'm The One)"
          ],
          [
           "ENHYPEN",
           "Blessed-Cursed"
          ],
          [
           "TREASURE",
           "JIKJIN"
          ],
          [
           "ONEUS",
           "Bring it on"
          ],
          [
           "TAEYONG",
           "ZOO"
          ],
          [
           "TOMORROW X TOGETHER",
           "Frost"
          ],
          [
           "TAEMIN",
           "Advice"
          ],
          [
           "AleXa",
           "Revolution"
          ],
          [
           "GFRIEND",
           "MAGO"
          ],
          [
           "WOOAH",
           "Bad Girl"
          ],
          [
           "Dreamcatcher",
           "\\xeb\\x8d\\xb0\\xec\\x9e\\x90\\xeb\\xb6\\x80 (Deja Vu)"
          ],
          [
           "Dreamcatcher",
           "BEcause"
          ],
          [
           "LOONA",
           "PTT (Paint The Town)"
          ],
          [
           "DreamNote",
           "GHOST"
          ],
          [
           "HOT ISSUE",
           "ICONS"
          ],
          [
           "PIXY",
           "Let Me Know"
          ],
          [
           "3YE",
           "STALKER"
          ],
          [
           "TRI.BE",
           "Loca"
          ],
          [
           "HOT ISSUE",
           "Dunga Dunga"
          ],
          [
           "Bling Bling",
           "Oh MAMA"
          ],
          [
           "HOT ISSUE",
           "GRATATA"
          ],
          [
           "Dreamcatcher",
           "SAHARA"
          ],
          [
           "EVERGLOW",
           "FIRST"
          ],
          [
           "PIXY",
           "Addicted"
          ],
          [
           "EXO",
           "Monster"
          ],
          [
           "SuperM",
           "Tiger Inside"
          ],
          [
           "BTS",
           "Not Today"
          ],
          [
           "ATEEZ",
           "WONDERLAND"
          ],
          [
           "ITZY",
           "WANNABE"
          ],
          [
           "SuperM",
           "Jopping"
          ],
          [
           "TREASURE",
           "BOY"
          ],
          [
           "CLC",
           "Hobgoblin"
          ],
          [
           "BTS",
           "Silver Spoon"
          ],
          [
           "Dreamcatcher",
           "Scream"
          ],
          [
           "WJSN",
           "NAVILLERA"
          ],
          [
           "Weeekly",
           "Ven para"
          ],
          [
           "Weeekly",
           "Solar"
          ],
          [
           "BTS",
           "No More Dream"
          ],
          [
           "IZ*ONE",
           "Secret Story of the Swan"
          ],
          [
           "ITZY",
           "Not Shy"
          ],
          [
           "aespa",
           "Next Level"
          ],
          [
           "Dreamcatcher",
           "Breaking Out"
          ],
          [
           "Dreamcatcher",
           "GOOD NIGHT"
          ],
          [
           "SECRET NUMBER",
           "Got That Boom"
          ],
          [
           "U-KNOW",
           "DROP"
          ],
          [
           "BTS",
           "MIC Drop (Steve Aoki Remix) (Full Length Edition)"
          ],
          [
           "BTS",
           "IDOL"
          ],
          [
           "NCT DREAM",
           "Ridin'"
          ],
          [
           "NCT 127",
           "Sit Down!"
          ],
          [
           "VICTON",
           "What I Said"
          ],
          [
           "P1Harmony",
           "Breakthrough (Full Version)"
          ],
          [
           "WayV",
           "Bad Alive - English Version"
          ],
          [
           "WayV",
           "Turn Back Time"
          ],
          [
           "THE BOYZ",
           "Drink It"
          ],
          [
           "E'LAST",
           "Dangerous"
          ],
          [
           "AleXa",
           "Bomb - Korean Version"
          ],
          [
           "AleXa",
           "VILLAIN"
          ],
          [
           "Dreamcatcher",
           "MAISON"
          ],
          [
           "Dreamcatcher",
           "Endless Night"
          ],
          [
           "Dreamcatcher",
           "Diamond"
          ],
          [
           "T-ARA",
           "Sugar Free"
          ],
          [
           "Dreamcatcher",
           "Tension"
          ],
          [
           "IVE",
           "LOVE DIVE"
          ],
          [
           "OMEGA X",
           "OMEGA X"
          ],
          [
           "JUST B",
           "RE=LOAD"
          ],
          [
           "EPEX",
           "Anthem of Teen Spirit"
          ],
          [
           "THE BOYZ",
           "Scar"
          ],
          [
           "BAE173",
           "JAWS"
          ],
          [
           "BLITZERS",
           "Hit The Bass"
          ],
          [
           "LEE MINHYUK (HUTA)",
           "BOOM"
          ],
          [
           "KEY",
           "Gasoline"
          ],
          [
           "MONSTA X",
           "WANTED"
          ],
          [
           "A.C.E",
           "Golden Goose"
          ],
          [
           "E'LAST",
           "Tears Of Chaos"
          ],
          [
           "BAE173",
           "DaSH"
          ],
          [
           "JUST B",
           "TICK TOCK"
          ],
          [
           "TO1",
           "No More X"
          ],
          [
           "DRIPPIN",
           "VERTIGO"
          ],
          [
           "IVE",
           "ELEVEN"
          ],
          [
           "GOT the beat",
           "Step Back"
          ],
          [
           "Solar",
           "Bada Boom (With MISMOLLY, TURNS)"
          ],
          [
           "JEON SOYEON",
           "NANRINA"
          ],
          [
           "Billlie",
           "flipp!ng a coin"
          ]
         ],
         "hovertemplate": "x=%{x}<br>y=%{y}<br>hover_data_0=%{customdata[0]}<br>hover_data_1=%{customdata[1]}<br>color=%{marker.color}<extra></extra>",
         "legendgroup": "",
         "marker": {
          "color": [
           7,
           3,
           2,
           2,
           7,
           7,
           0,
           5,
           0,
           7,
           0,
           7,
           3,
           3,
           1,
           3,
           2,
           2,
           4,
           6,
           0,
           2,
           6,
           4,
           3,
           1,
           2,
           3,
           7,
           1,
           2,
           4,
           7,
           2,
           4,
           1,
           2,
           2,
           3,
           4,
           5,
           3,
           7,
           0,
           7,
           1,
           4,
           6,
           7,
           4,
           4,
           3,
           6,
           1,
           5,
           2,
           2,
           2,
           6,
           5,
           2,
           0,
           7,
           1,
           7,
           1,
           0,
           2,
           4,
           4,
           0,
           3,
           2,
           4,
           0,
           7,
           1,
           1,
           5,
           6,
           0,
           0,
           0,
           4,
           7,
           7,
           1,
           7,
           2,
           0,
           3,
           1,
           4,
           1,
           4,
           1,
           7,
           2,
           6,
           2
          ],
          "coloraxis": "coloraxis",
          "symbol": "circle"
         },
         "mode": "markers",
         "name": "",
         "orientation": "v",
         "showlegend": false,
         "type": "scatter",
         "x": [
          0.33300250360072514,
          -0.07613586994289352,
          -0.004456184198391353,
          -0.07489871942828745,
          0.4155811218738096,
          0.32536755859419403,
          0.18800858964122127,
          0.4601649871489055,
          0.13052246976043813,
          0.22922591350388358,
          0.25562667114935367,
          0.41227869313532756,
          -0.14762339604972657,
          -0.4950261061137798,
          -0.1721836310871141,
          -0.1782375732232969,
          -0.16508607661908672,
          -0.1202956709874563,
          0.03437296411504162,
          -0.7795044372019823,
          0.2233563049816649,
          -0.11057374620742112,
          -0.5741895261882252,
          0.11319003321032045,
          -0.2713850755838225,
          -0.20864881806899982,
          -0.3528622530484104,
          -0.029170729640521312,
          0.31367547495330905,
          -0.20027217556578444,
          -0.048217839390762914,
          -0.03558321613026825,
          0.5064951847164804,
          0.014672770855296627,
          -0.06331710345216178,
          -0.3043669819500456,
          -0.03852639129336857,
          -0.10800326244412517,
          -0.44242667722093393,
          0.08575928960649261,
          0.691917352738045,
          -0.1601141016326051,
          0.582523682130004,
          0.17131556143005747,
          0.2580813983790556,
          -0.3048479962259036,
          -0.0612059823302356,
          -0.5477563913632283,
          0.23342855241483368,
          0.0817482247753093,
          0.13144949514711365,
          -0.16331602148978627,
          -0.38136104874145355,
          -0.2008305871902112,
          0.5261952029681377,
          0.07333304780505091,
          -0.16334515853648737,
          -0.09279932070333917,
          -0.518272716838425,
          0.8906223124586697,
          -0.09847107300105241,
          0.06941876057604236,
          0.1641721956247274,
          -0.18949597167164825,
          0.23790559157024782,
          -0.3264796664695848,
          0.1101720186132733,
          -0.1765174946728891,
          -0.07712292598175575,
          -0.07525815171475851,
          0.10367138235462507,
          -0.24955748875877015,
          -0.04582012774773778,
          0.05404537164649186,
          0.05912625797469181,
          0.35718968101110393,
          -0.1949204085358724,
          -0.18984011379848462,
          0.6470868128734945,
          -0.37370356925930825,
          0.20347497102969575,
          0.39560413725090376,
          0.10840834840412594,
          -0.08475784439711356,
          0.43263123935939,
          0.36947657809953,
          -0.3257664963798897,
          0.2793846082389874,
          -0.10332605746309116,
          0.327080647623476,
          -0.27906079470348055,
          -0.3456772995207412,
          -0.05823377546211421,
          -0.2945035087480202,
          0.08251259733167818,
          -0.3642861368097372,
          0.24052626784741574,
          0.11558818702607498,
          -0.4905440277878462,
          -0.10120729657626003
         ],
         "xaxis": "x",
         "y": [
          0.03998727940985886,
          0.43837022886953814,
          -0.2902751257947743,
          -0.3020687170773231,
          0.09549349618683232,
          0.11088895737481722,
          -0.2881985964847492,
          0.7876386110932313,
          -0.08438203144599349,
          0.008995857879285672,
          -0.37856116737970097,
          0.1355516523227672,
          0.40015829609971804,
          0.47387994917958737,
          -0.03725353966672905,
          0.3124939185880189,
          -0.3348335697569785,
          -0.1829578291769858,
          0.1727909321983827,
          0.34253656801336774,
          -0.28042272198835183,
          -0.2818131824429829,
          0.07656829569292864,
          0.09615506723204092,
          0.29397185617592847,
          -0.016569494301696186,
          -0.3398334610321165,
          0.5619358561350326,
          0.21739257492528732,
          -0.09809239591028523,
          -0.21086866045093652,
          -0.11143602279814264,
          -0.0889954502016157,
          -0.44001298756422375,
          -0.03437424001628331,
          -0.0031938419671497524,
          -0.348856675475605,
          -0.35831010146816195,
          0.40011390346417103,
          0.16855440722110177,
          0.13832418984890882,
          0.2815508777150259,
          -0.07025360657239133,
          -0.14848199241478424,
          -0.041290356520052876,
          -0.13808921612080502,
          -0.013607139252891571,
          0.06453151575451678,
          0.2713425079508988,
          0.12914809067504363,
          0.14028591958002604,
          0.3684226176017498,
          0.19018301090899145,
          -0.15515051276865635,
          0.403365181411258,
          -0.5282937563666998,
          -0.23305009651762656,
          -0.6413123532078583,
          0.24925549185768242,
          0.13595377061271435,
          -0.3538018611565442,
          -0.13434192729310696,
          0.2522991888865078,
          0.12195432856993926,
          -0.011357509359730816,
          -0.15971495581118875,
          -0.2096025535513177,
          -0.2445048244917415,
          0.0535433433895763,
          0.12164780797151842,
          -0.2560758993728636,
          0.3545576312268806,
          -0.18739832697884876,
          0.02391361501135864,
          -0.11962172554115805,
          0.1659382639570611,
          0.058838098257213554,
          -0.11152767393619419,
          0.32885773500143345,
          0.1596779582865461,
          -0.33347793392417924,
          -0.3252335889837108,
          -0.1413883357708282,
          0.1788114953919468,
          0.24304460175815903,
          0.2660571236343037,
          0.03406095300249115,
          -0.005094979842143197,
          -0.14076440571235183,
          -0.12947144206652406,
          0.18892429431035965,
          0.03256019158390407,
          -0.08080416722015268,
          0.030962488345872955,
          0.014060574788532794,
          -0.07608462038410545,
          0.013754048137898683,
          -0.4571564666351132,
          0.07307028318652728,
          -0.2641128665023956
         ],
         "yaxis": "y"
        }
       ],
       "layout": {
        "coloraxis": {
         "colorbar": {
          "title": {
           "text": "color"
          }
         },
         "colorscale": [
          [
           0,
           "rgb(150,0,90)"
          ],
          [
           0.125,
           "rgb(0,0,200)"
          ],
          [
           0.25,
           "rgb(0,25,255)"
          ],
          [
           0.375,
           "rgb(0,152,255)"
          ],
          [
           0.5,
           "rgb(44,255,150)"
          ],
          [
           0.625,
           "rgb(151,255,0)"
          ],
          [
           0.75,
           "rgb(255,234,0)"
          ],
          [
           0.875,
           "rgb(255,111,0)"
          ],
          [
           1,
           "rgb(255,0,0)"
          ]
         ]
        },
        "legend": {
         "tracegroupgap": 0
        },
        "margin": {
         "t": 60
        },
        "template": {
         "data": {
          "candlestick": [
           {
            "decreasing": {
             "line": {
              "color": "#000033"
             }
            },
            "increasing": {
             "line": {
              "color": "#000032"
             }
            },
            "type": "candlestick"
           }
          ],
          "contour": [
           {
            "colorscale": [
             [
              0,
              "#000011"
             ],
             [
              0.1111111111111111,
              "#000012"
             ],
             [
              0.2222222222222222,
              "#000013"
             ],
             [
              0.3333333333333333,
              "#000014"
             ],
             [
              0.4444444444444444,
              "#000015"
             ],
             [
              0.5555555555555556,
              "#000016"
             ],
             [
              0.6666666666666666,
              "#000017"
             ],
             [
              0.7777777777777778,
              "#000018"
             ],
             [
              0.8888888888888888,
              "#000019"
             ],
             [
              1,
              "#000020"
             ]
            ],
            "type": "contour"
           }
          ],
          "contourcarpet": [
           {
            "colorscale": [
             [
              0,
              "#000011"
             ],
             [
              0.1111111111111111,
              "#000012"
             ],
             [
              0.2222222222222222,
              "#000013"
             ],
             [
              0.3333333333333333,
              "#000014"
             ],
             [
              0.4444444444444444,
              "#000015"
             ],
             [
              0.5555555555555556,
              "#000016"
             ],
             [
              0.6666666666666666,
              "#000017"
             ],
             [
              0.7777777777777778,
              "#000018"
             ],
             [
              0.8888888888888888,
              "#000019"
             ],
             [
              1,
              "#000020"
             ]
            ],
            "type": "contourcarpet"
           }
          ],
          "heatmap": [
           {
            "colorscale": [
             [
              0,
              "#000011"
             ],
             [
              0.1111111111111111,
              "#000012"
             ],
             [
              0.2222222222222222,
              "#000013"
             ],
             [
              0.3333333333333333,
              "#000014"
             ],
             [
              0.4444444444444444,
              "#000015"
             ],
             [
              0.5555555555555556,
              "#000016"
             ],
             [
              0.6666666666666666,
              "#000017"
             ],
             [
              0.7777777777777778,
              "#000018"
             ],
             [
              0.8888888888888888,
              "#000019"
             ],
             [
              1,
              "#000020"
             ]
            ],
            "type": "heatmap"
           }
          ],
          "histogram2d": [
           {
            "colorscale": [
             [
              0,
              "#000011"
             ],
             [
              0.1111111111111111,
              "#000012"
             ],
             [
              0.2222222222222222,
              "#000013"
             ],
             [
              0.3333333333333333,
              "#000014"
             ],
             [
              0.4444444444444444,
              "#000015"
             ],
             [
              0.5555555555555556,
              "#000016"
             ],
             [
              0.6666666666666666,
              "#000017"
             ],
             [
              0.7777777777777778,
              "#000018"
             ],
             [
              0.8888888888888888,
              "#000019"
             ],
             [
              1,
              "#000020"
             ]
            ],
            "type": "histogram2d"
           }
          ],
          "icicle": [
           {
            "textfont": {
             "color": "white"
            },
            "type": "icicle"
           }
          ],
          "sankey": [
           {
            "textfont": {
             "color": "#000036"
            },
            "type": "sankey"
           }
          ],
          "scatter": [
           {
            "marker": {
             "line": {
              "width": 0
             }
            },
            "type": "scatter"
           }
          ],
          "table": [
           {
            "cells": {
             "fill": {
              "color": "#000038"
             },
             "font": {
              "color": "#000037"
             },
             "line": {
              "color": "#000039"
             }
            },
            "header": {
             "fill": {
              "color": "#000040"
             },
             "font": {
              "color": "#000036"
             },
             "line": {
              "color": "#000039"
             }
            },
            "type": "table"
           }
          ],
          "waterfall": [
           {
            "connector": {
             "line": {
              "color": "#000036",
              "width": 2
             }
            },
            "decreasing": {
             "marker": {
              "color": "#000033"
             }
            },
            "increasing": {
             "marker": {
              "color": "#000032"
             }
            },
            "totals": {
             "marker": {
              "color": "#000034"
             }
            },
            "type": "waterfall"
           }
          ]
         },
         "layout": {
          "coloraxis": {
           "colorscale": [
            [
             0,
             "#000011"
            ],
            [
             0.1111111111111111,
             "#000012"
            ],
            [
             0.2222222222222222,
             "#000013"
            ],
            [
             0.3333333333333333,
             "#000014"
            ],
            [
             0.4444444444444444,
             "#000015"
            ],
            [
             0.5555555555555556,
             "#000016"
            ],
            [
             0.6666666666666666,
             "#000017"
            ],
            [
             0.7777777777777778,
             "#000018"
            ],
            [
             0.8888888888888888,
             "#000019"
            ],
            [
             1,
             "#000020"
            ]
           ]
          },
          "colorscale": {
           "diverging": [
            [
             0,
             "#000021"
            ],
            [
             0.1,
             "#000022"
            ],
            [
             0.2,
             "#000023"
            ],
            [
             0.3,
             "#000024"
            ],
            [
             0.4,
             "#000025"
            ],
            [
             0.5,
             "#000026"
            ],
            [
             0.6,
             "#000027"
            ],
            [
             0.7,
             "#000028"
            ],
            [
             0.8,
             "#000029"
            ],
            [
             0.9,
             "#000030"
            ],
            [
             1,
             "#000031"
            ]
           ],
           "sequential": [
            [
             0,
             "#000011"
            ],
            [
             0.1111111111111111,
             "#000012"
            ],
            [
             0.2222222222222222,
             "#000013"
            ],
            [
             0.3333333333333333,
             "#000014"
            ],
            [
             0.4444444444444444,
             "#000015"
            ],
            [
             0.5555555555555556,
             "#000016"
            ],
            [
             0.6666666666666666,
             "#000017"
            ],
            [
             0.7777777777777778,
             "#000018"
            ],
            [
             0.8888888888888888,
             "#000019"
            ],
            [
             1,
             "#000020"
            ]
           ],
           "sequentialminus": [
            [
             0,
             "#000011"
            ],
            [
             0.1111111111111111,
             "#000012"
            ],
            [
             0.2222222222222222,
             "#000013"
            ],
            [
             0.3333333333333333,
             "#000014"
            ],
            [
             0.4444444444444444,
             "#000015"
            ],
            [
             0.5555555555555556,
             "#000016"
            ],
            [
             0.6666666666666666,
             "#000017"
            ],
            [
             0.7777777777777778,
             "#000018"
            ],
            [
             0.8888888888888888,
             "#000019"
            ],
            [
             1,
             "#000020"
            ]
           ]
          },
          "colorway": [
           "#000001",
           "#000002",
           "#000003",
           "#000004",
           "#000005",
           "#000006",
           "#000007",
           "#000008",
           "#000009",
           "#000010"
          ]
         }
        },
        "xaxis": {
         "anchor": "y",
         "domain": [
          0,
          1
         ],
         "title": {
          "text": "x"
         }
        },
        "yaxis": {
         "anchor": "x",
         "domain": [
          0,
          1
         ],
         "title": {
          "text": "y"
         }
        }
       }
      }
     },
     "metadata": {},
     "output_type": "display_data"
    }
   ],
   "source": [
    "## rubah bentuk data ke list \n",
    "data2 = list(zip(pca_df['x'], pca_df['y']))\n",
    "\n",
    "## fit kmeans model\n",
    "kmeans = KMeans(n_init=10, max_iter=1000).fit(data2)\n",
    "\n",
    "## make scatter plot using plotly\n",
    "fig = px.scatter(pca_df, x='x', y='y', color=kmeans.labels_, color_continuous_scale='rainbow', hover_data=[data.artist, data.name])\n",
    "fig.show()"
   ]
  },
  {
   "cell_type": "code",
   "execution_count": null,
   "metadata": {},
   "outputs": [],
   "source": []
  }
 ],
 "metadata": {
  "kernelspec": {
   "display_name": "Python 3",
   "language": "python",
   "name": "python3"
  },
  "language_info": {
   "codemirror_mode": {
    "name": "ipython",
    "version": 3
   },
   "file_extension": ".py",
   "mimetype": "text/x-python",
   "name": "python",
   "nbconvert_exporter": "python",
   "pygments_lexer": "ipython3",
   "version": "3.11.9"
  }
 },
 "nbformat": 4,
 "nbformat_minor": 2
}
